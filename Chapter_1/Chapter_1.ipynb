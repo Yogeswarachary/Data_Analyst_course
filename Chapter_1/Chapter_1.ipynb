{
 "cells": [
  {
   "cell_type": "markdown",
   "id": "3ef475e2",
   "metadata": {},
   "source": [
    "### Basics Of statistics"
   ]
  },
  {
   "cell_type": "markdown",
   "id": "07a4351c",
   "metadata": {},
   "source": [
    "#### 1. Measures of central tendency"
   ]
  },
  {
   "cell_type": "markdown",
   "id": "af84e19c",
   "metadata": {},
   "source": [
    "1.1 MODE of the data"
   ]
  },
  {
   "cell_type": "code",
   "execution_count": 1,
   "id": "6ec9b91c",
   "metadata": {},
   "outputs": [],
   "source": [
    "# importing pandas library\n",
    "import pandas as pd\n",
    "data = pd.read_excel(r\"D:\\Excel\\releted to datascience excel files\\marks_sheet.xlsx\")"
   ]
  },
  {
   "cell_type": "code",
   "execution_count": 4,
   "id": "55d20d9d",
   "metadata": {},
   "outputs": [
    {
     "data": {
      "text/html": [
       "<div>\n",
       "<style scoped>\n",
       "    .dataframe tbody tr th:only-of-type {\n",
       "        vertical-align: middle;\n",
       "    }\n",
       "\n",
       "    .dataframe tbody tr th {\n",
       "        vertical-align: top;\n",
       "    }\n",
       "\n",
       "    .dataframe thead th {\n",
       "        text-align: right;\n",
       "    }\n",
       "</style>\n",
       "<table border=\"1\" class=\"dataframe\">\n",
       "  <thead>\n",
       "    <tr style=\"text-align: right;\">\n",
       "      <th></th>\n",
       "      <th>First_name</th>\n",
       "      <th>Last_name</th>\n",
       "      <th>Gender</th>\n",
       "      <th>Chemistry</th>\n",
       "      <th>Maths</th>\n",
       "      <th>Biology</th>\n",
       "      <th>English</th>\n",
       "      <th>Social</th>\n",
       "      <th>Hindi</th>\n",
       "      <th>Physics</th>\n",
       "      <th>Overall_marks</th>\n",
       "      <th>Full_name</th>\n",
       "      <th>Grades</th>\n",
       "      <th>Subject</th>\n",
       "    </tr>\n",
       "  </thead>\n",
       "  <tbody>\n",
       "    <tr>\n",
       "      <th>0</th>\n",
       "      <td>Yogesh</td>\n",
       "      <td>Modepalli</td>\n",
       "      <td>Male</td>\n",
       "      <td>76</td>\n",
       "      <td>74</td>\n",
       "      <td>98</td>\n",
       "      <td>90</td>\n",
       "      <td>92</td>\n",
       "      <td>92</td>\n",
       "      <td>70</td>\n",
       "      <td>592</td>\n",
       "      <td>Yogesh Modepalli</td>\n",
       "      <td>A</td>\n",
       "      <td>Python</td>\n",
       "    </tr>\n",
       "    <tr>\n",
       "      <th>1</th>\n",
       "      <td>Paul</td>\n",
       "      <td>Revu</td>\n",
       "      <td>Male</td>\n",
       "      <td>55</td>\n",
       "      <td>50</td>\n",
       "      <td>38</td>\n",
       "      <td>88</td>\n",
       "      <td>88</td>\n",
       "      <td>88</td>\n",
       "      <td>69</td>\n",
       "      <td>476</td>\n",
       "      <td>Paul Revu</td>\n",
       "      <td>B</td>\n",
       "      <td>Java</td>\n",
       "    </tr>\n",
       "    <tr>\n",
       "      <th>2</th>\n",
       "      <td>Eswar</td>\n",
       "      <td>Banoth</td>\n",
       "      <td>Male</td>\n",
       "      <td>76</td>\n",
       "      <td>60</td>\n",
       "      <td>61</td>\n",
       "      <td>63</td>\n",
       "      <td>63</td>\n",
       "      <td>63</td>\n",
       "      <td>83</td>\n",
       "      <td>469</td>\n",
       "      <td>Eswar Banoth</td>\n",
       "      <td>D</td>\n",
       "      <td>C#</td>\n",
       "    </tr>\n",
       "    <tr>\n",
       "      <th>3</th>\n",
       "      <td>Vasanthi</td>\n",
       "      <td>Kalvani</td>\n",
       "      <td>Female</td>\n",
       "      <td>89</td>\n",
       "      <td>67</td>\n",
       "      <td>49</td>\n",
       "      <td>69</td>\n",
       "      <td>69</td>\n",
       "      <td>69</td>\n",
       "      <td>76</td>\n",
       "      <td>488</td>\n",
       "      <td>Vasanthi Kalvani</td>\n",
       "      <td>C</td>\n",
       "      <td>java</td>\n",
       "    </tr>\n",
       "    <tr>\n",
       "      <th>4</th>\n",
       "      <td>Ruya Khan</td>\n",
       "      <td>Mohamadh</td>\n",
       "      <td>Female</td>\n",
       "      <td>87</td>\n",
       "      <td>65</td>\n",
       "      <td>80</td>\n",
       "      <td>76</td>\n",
       "      <td>76</td>\n",
       "      <td>76</td>\n",
       "      <td>92</td>\n",
       "      <td>552</td>\n",
       "      <td>Ruya Khan Mohamadh</td>\n",
       "      <td>D</td>\n",
       "      <td>C++</td>\n",
       "    </tr>\n",
       "  </tbody>\n",
       "</table>\n",
       "</div>"
      ],
      "text/plain": [
       "  First_name  Last_name  Gender  Chemistry  Maths  Biology  English  Social  \\\n",
       "0     Yogesh  Modepalli    Male         76     74       98       90      92   \n",
       "1       Paul       Revu    Male         55     50       38       88      88   \n",
       "2      Eswar     Banoth    Male         76     60       61       63      63   \n",
       "3   Vasanthi    Kalvani  Female         89     67       49       69      69   \n",
       "4  Ruya Khan   Mohamadh  Female         87     65       80       76      76   \n",
       "\n",
       "   Hindi  Physics  Overall_marks           Full_name Grades Subject  \n",
       "0     92       70            592    Yogesh Modepalli      A  Python  \n",
       "1     88       69            476           Paul Revu      B    Java  \n",
       "2     63       83            469        Eswar Banoth      D      C#  \n",
       "3     69       76            488    Vasanthi Kalvani      C    java  \n",
       "4     76       92            552  Ruya Khan Mohamadh      D     C++  "
      ]
     },
     "execution_count": 4,
     "metadata": {},
     "output_type": "execute_result"
    }
   ],
   "source": [
    "#printing first five rows of the dataset\n",
    "data.head()"
   ]
  },
  {
   "cell_type": "code",
   "execution_count": 3,
   "id": "79753459",
   "metadata": {},
   "outputs": [
    {
     "data": {
      "text/html": [
       "<div>\n",
       "<style scoped>\n",
       "    .dataframe tbody tr th:only-of-type {\n",
       "        vertical-align: middle;\n",
       "    }\n",
       "\n",
       "    .dataframe tbody tr th {\n",
       "        vertical-align: top;\n",
       "    }\n",
       "\n",
       "    .dataframe thead th {\n",
       "        text-align: right;\n",
       "    }\n",
       "</style>\n",
       "<table border=\"1\" class=\"dataframe\">\n",
       "  <thead>\n",
       "    <tr style=\"text-align: right;\">\n",
       "      <th></th>\n",
       "      <th>First_name</th>\n",
       "      <th>Last_name</th>\n",
       "      <th>Gender</th>\n",
       "      <th>Chemistry</th>\n",
       "      <th>Maths</th>\n",
       "      <th>Biology</th>\n",
       "      <th>English</th>\n",
       "      <th>Social</th>\n",
       "      <th>Hindi</th>\n",
       "      <th>Physics</th>\n",
       "      <th>Overall_marks</th>\n",
       "      <th>Full_name</th>\n",
       "      <th>Grades</th>\n",
       "      <th>Subject</th>\n",
       "    </tr>\n",
       "  </thead>\n",
       "  <tbody>\n",
       "    <tr>\n",
       "      <th>15</th>\n",
       "      <td>Shivani</td>\n",
       "      <td>Thota</td>\n",
       "      <td>Female</td>\n",
       "      <td>76</td>\n",
       "      <td>41</td>\n",
       "      <td>88</td>\n",
       "      <td>63</td>\n",
       "      <td>87</td>\n",
       "      <td>46</td>\n",
       "      <td>89</td>\n",
       "      <td>490</td>\n",
       "      <td>Shivani Thota</td>\n",
       "      <td>A</td>\n",
       "      <td>Analytics</td>\n",
       "    </tr>\n",
       "    <tr>\n",
       "      <th>16</th>\n",
       "      <td>Sathya_bhama</td>\n",
       "      <td>Nemilla</td>\n",
       "      <td>Female</td>\n",
       "      <td>98</td>\n",
       "      <td>33</td>\n",
       "      <td>63</td>\n",
       "      <td>69</td>\n",
       "      <td>56</td>\n",
       "      <td>98</td>\n",
       "      <td>87</td>\n",
       "      <td>504</td>\n",
       "      <td>Sathya_bhama Nemilla</td>\n",
       "      <td>A</td>\n",
       "      <td>dot net</td>\n",
       "    </tr>\n",
       "    <tr>\n",
       "      <th>17</th>\n",
       "      <td>Sumanjali</td>\n",
       "      <td>Ponnenkanti</td>\n",
       "      <td>Female</td>\n",
       "      <td>60</td>\n",
       "      <td>23</td>\n",
       "      <td>69</td>\n",
       "      <td>76</td>\n",
       "      <td>67</td>\n",
       "      <td>67</td>\n",
       "      <td>70</td>\n",
       "      <td>432</td>\n",
       "      <td>Sumanjali Ponnenkanti</td>\n",
       "      <td>C</td>\n",
       "      <td>salesforce</td>\n",
       "    </tr>\n",
       "    <tr>\n",
       "      <th>18</th>\n",
       "      <td>Geetha</td>\n",
       "      <td>Katukuri</td>\n",
       "      <td>Female</td>\n",
       "      <td>55</td>\n",
       "      <td>40</td>\n",
       "      <td>76</td>\n",
       "      <td>98</td>\n",
       "      <td>78</td>\n",
       "      <td>66</td>\n",
       "      <td>66</td>\n",
       "      <td>479</td>\n",
       "      <td>Geetha Katukuri</td>\n",
       "      <td>D</td>\n",
       "      <td>snowflake</td>\n",
       "    </tr>\n",
       "    <tr>\n",
       "      <th>19</th>\n",
       "      <td>Prakash</td>\n",
       "      <td>Pothukunuri</td>\n",
       "      <td>Male</td>\n",
       "      <td>88</td>\n",
       "      <td>1</td>\n",
       "      <td>11</td>\n",
       "      <td>0</td>\n",
       "      <td>88</td>\n",
       "      <td>11</td>\n",
       "      <td>87</td>\n",
       "      <td>286</td>\n",
       "      <td>Prakash Pothukunuri</td>\n",
       "      <td>B</td>\n",
       "      <td>Python</td>\n",
       "    </tr>\n",
       "  </tbody>\n",
       "</table>\n",
       "</div>"
      ],
      "text/plain": [
       "      First_name    Last_name  Gender  Chemistry  Maths  Biology  English  \\\n",
       "15       Shivani        Thota  Female         76     41       88       63   \n",
       "16  Sathya_bhama      Nemilla  Female         98     33       63       69   \n",
       "17     Sumanjali  Ponnenkanti  Female         60     23       69       76   \n",
       "18        Geetha     Katukuri  Female         55     40       76       98   \n",
       "19       Prakash  Pothukunuri    Male         88      1       11        0   \n",
       "\n",
       "    Social  Hindi  Physics  Overall_marks              Full_name Grades  \\\n",
       "15      87     46       89            490          Shivani Thota      A   \n",
       "16      56     98       87            504   Sathya_bhama Nemilla      A   \n",
       "17      67     67       70            432  Sumanjali Ponnenkanti      C   \n",
       "18      78     66       66            479        Geetha Katukuri      D   \n",
       "19      88     11       87            286    Prakash Pothukunuri      B   \n",
       "\n",
       "       Subject  \n",
       "15   Analytics  \n",
       "16     dot net  \n",
       "17  salesforce  \n",
       "18   snowflake  \n",
       "19      Python  "
      ]
     },
     "execution_count": 3,
     "metadata": {},
     "output_type": "execute_result"
    }
   ],
   "source": [
    "#printing the last five rows of the dataset\n",
    "data.tail()"
   ]
  },
  {
   "cell_type": "code",
   "execution_count": 10,
   "id": "b1472992",
   "metadata": {},
   "outputs": [
    {
     "name": "stdout",
     "output_type": "stream",
     "text": [
      "0    D\n",
      "dtype: object\n"
     ]
    }
   ],
   "source": [
    "#calculating the MODE of the grades column\n",
    "mode_data = data['Grades'].mode()\n",
    "print(mode_data)"
   ]
  },
  {
   "cell_type": "markdown",
   "id": "7b640962",
   "metadata": {},
   "source": [
    ">here the above 'D' is the most frequently occured Grades across the dataset"
   ]
  },
  {
   "cell_type": "markdown",
   "id": "06de2c3a",
   "metadata": {},
   "source": [
    "##### 1.3 Mean of the Dataset"
   ]
  },
  {
   "cell_type": "markdown",
   "id": "2c757869",
   "metadata": {},
   "source": [
    ">Mean is also called as the Average. We know how to calculate the mean.{sum_of_the_quantities/total_no_of_quantities}"
   ]
  },
  {
   "cell_type": "code",
   "execution_count": 11,
   "id": "8ac540d2",
   "metadata": {},
   "outputs": [],
   "source": [
    "#import pandas library\n",
    "import pandas as pd\n",
    "data = pd.read_excel(r\"D:\\Excel\\releted to datascience excel files\\marks_sheet.xlsx\")"
   ]
  },
  {
   "cell_type": "code",
   "execution_count": 12,
   "id": "45aec85b",
   "metadata": {},
   "outputs": [
    {
     "data": {
      "text/html": [
       "<div>\n",
       "<style scoped>\n",
       "    .dataframe tbody tr th:only-of-type {\n",
       "        vertical-align: middle;\n",
       "    }\n",
       "\n",
       "    .dataframe tbody tr th {\n",
       "        vertical-align: top;\n",
       "    }\n",
       "\n",
       "    .dataframe thead th {\n",
       "        text-align: right;\n",
       "    }\n",
       "</style>\n",
       "<table border=\"1\" class=\"dataframe\">\n",
       "  <thead>\n",
       "    <tr style=\"text-align: right;\">\n",
       "      <th></th>\n",
       "      <th>First_name</th>\n",
       "      <th>Last_name</th>\n",
       "      <th>Gender</th>\n",
       "      <th>Chemistry</th>\n",
       "      <th>Maths</th>\n",
       "      <th>Biology</th>\n",
       "      <th>English</th>\n",
       "      <th>Social</th>\n",
       "      <th>Hindi</th>\n",
       "      <th>Physics</th>\n",
       "      <th>Overall_marks</th>\n",
       "      <th>Full_name</th>\n",
       "      <th>Grades</th>\n",
       "      <th>Subject</th>\n",
       "    </tr>\n",
       "  </thead>\n",
       "  <tbody>\n",
       "    <tr>\n",
       "      <th>0</th>\n",
       "      <td>Yogesh</td>\n",
       "      <td>Modepalli</td>\n",
       "      <td>Male</td>\n",
       "      <td>76</td>\n",
       "      <td>74</td>\n",
       "      <td>98</td>\n",
       "      <td>90</td>\n",
       "      <td>92</td>\n",
       "      <td>92</td>\n",
       "      <td>70</td>\n",
       "      <td>592</td>\n",
       "      <td>Yogesh Modepalli</td>\n",
       "      <td>A</td>\n",
       "      <td>Python</td>\n",
       "    </tr>\n",
       "    <tr>\n",
       "      <th>1</th>\n",
       "      <td>Paul</td>\n",
       "      <td>Revu</td>\n",
       "      <td>Male</td>\n",
       "      <td>55</td>\n",
       "      <td>50</td>\n",
       "      <td>38</td>\n",
       "      <td>88</td>\n",
       "      <td>88</td>\n",
       "      <td>88</td>\n",
       "      <td>69</td>\n",
       "      <td>476</td>\n",
       "      <td>Paul Revu</td>\n",
       "      <td>B</td>\n",
       "      <td>Java</td>\n",
       "    </tr>\n",
       "    <tr>\n",
       "      <th>2</th>\n",
       "      <td>Eswar</td>\n",
       "      <td>Banoth</td>\n",
       "      <td>Male</td>\n",
       "      <td>76</td>\n",
       "      <td>60</td>\n",
       "      <td>61</td>\n",
       "      <td>63</td>\n",
       "      <td>63</td>\n",
       "      <td>63</td>\n",
       "      <td>83</td>\n",
       "      <td>469</td>\n",
       "      <td>Eswar Banoth</td>\n",
       "      <td>D</td>\n",
       "      <td>C#</td>\n",
       "    </tr>\n",
       "    <tr>\n",
       "      <th>3</th>\n",
       "      <td>Vasanthi</td>\n",
       "      <td>Kalvani</td>\n",
       "      <td>Female</td>\n",
       "      <td>89</td>\n",
       "      <td>67</td>\n",
       "      <td>49</td>\n",
       "      <td>69</td>\n",
       "      <td>69</td>\n",
       "      <td>69</td>\n",
       "      <td>76</td>\n",
       "      <td>488</td>\n",
       "      <td>Vasanthi Kalvani</td>\n",
       "      <td>C</td>\n",
       "      <td>java</td>\n",
       "    </tr>\n",
       "    <tr>\n",
       "      <th>4</th>\n",
       "      <td>Ruya Khan</td>\n",
       "      <td>Mohamadh</td>\n",
       "      <td>Female</td>\n",
       "      <td>87</td>\n",
       "      <td>65</td>\n",
       "      <td>80</td>\n",
       "      <td>76</td>\n",
       "      <td>76</td>\n",
       "      <td>76</td>\n",
       "      <td>92</td>\n",
       "      <td>552</td>\n",
       "      <td>Ruya Khan Mohamadh</td>\n",
       "      <td>D</td>\n",
       "      <td>C++</td>\n",
       "    </tr>\n",
       "  </tbody>\n",
       "</table>\n",
       "</div>"
      ],
      "text/plain": [
       "  First_name  Last_name  Gender  Chemistry  Maths  Biology  English  Social  \\\n",
       "0     Yogesh  Modepalli    Male         76     74       98       90      92   \n",
       "1       Paul       Revu    Male         55     50       38       88      88   \n",
       "2      Eswar     Banoth    Male         76     60       61       63      63   \n",
       "3   Vasanthi    Kalvani  Female         89     67       49       69      69   \n",
       "4  Ruya Khan   Mohamadh  Female         87     65       80       76      76   \n",
       "\n",
       "   Hindi  Physics  Overall_marks           Full_name Grades Subject  \n",
       "0     92       70            592    Yogesh Modepalli      A  Python  \n",
       "1     88       69            476           Paul Revu      B    Java  \n",
       "2     63       83            469        Eswar Banoth      D      C#  \n",
       "3     69       76            488    Vasanthi Kalvani      C    java  \n",
       "4     76       92            552  Ruya Khan Mohamadh      D     C++  "
      ]
     },
     "execution_count": 12,
     "metadata": {},
     "output_type": "execute_result"
    }
   ],
   "source": [
    "#printing first five rows of the dataset\n",
    "data.head()"
   ]
  },
  {
   "cell_type": "code",
   "execution_count": 13,
   "id": "cdf916be",
   "metadata": {},
   "outputs": [
    {
     "data": {
      "text/html": [
       "<div>\n",
       "<style scoped>\n",
       "    .dataframe tbody tr th:only-of-type {\n",
       "        vertical-align: middle;\n",
       "    }\n",
       "\n",
       "    .dataframe tbody tr th {\n",
       "        vertical-align: top;\n",
       "    }\n",
       "\n",
       "    .dataframe thead th {\n",
       "        text-align: right;\n",
       "    }\n",
       "</style>\n",
       "<table border=\"1\" class=\"dataframe\">\n",
       "  <thead>\n",
       "    <tr style=\"text-align: right;\">\n",
       "      <th></th>\n",
       "      <th>First_name</th>\n",
       "      <th>Last_name</th>\n",
       "      <th>Gender</th>\n",
       "      <th>Chemistry</th>\n",
       "      <th>Maths</th>\n",
       "      <th>Biology</th>\n",
       "      <th>English</th>\n",
       "      <th>Social</th>\n",
       "      <th>Hindi</th>\n",
       "      <th>Physics</th>\n",
       "      <th>Overall_marks</th>\n",
       "      <th>Full_name</th>\n",
       "      <th>Grades</th>\n",
       "      <th>Subject</th>\n",
       "    </tr>\n",
       "  </thead>\n",
       "  <tbody>\n",
       "    <tr>\n",
       "      <th>15</th>\n",
       "      <td>Shivani</td>\n",
       "      <td>Thota</td>\n",
       "      <td>Female</td>\n",
       "      <td>76</td>\n",
       "      <td>41</td>\n",
       "      <td>88</td>\n",
       "      <td>63</td>\n",
       "      <td>87</td>\n",
       "      <td>46</td>\n",
       "      <td>89</td>\n",
       "      <td>490</td>\n",
       "      <td>Shivani Thota</td>\n",
       "      <td>A</td>\n",
       "      <td>Analytics</td>\n",
       "    </tr>\n",
       "    <tr>\n",
       "      <th>16</th>\n",
       "      <td>Sathya_bhama</td>\n",
       "      <td>Nemilla</td>\n",
       "      <td>Female</td>\n",
       "      <td>98</td>\n",
       "      <td>33</td>\n",
       "      <td>63</td>\n",
       "      <td>69</td>\n",
       "      <td>56</td>\n",
       "      <td>98</td>\n",
       "      <td>87</td>\n",
       "      <td>504</td>\n",
       "      <td>Sathya_bhama Nemilla</td>\n",
       "      <td>A</td>\n",
       "      <td>dot net</td>\n",
       "    </tr>\n",
       "    <tr>\n",
       "      <th>17</th>\n",
       "      <td>Sumanjali</td>\n",
       "      <td>Ponnenkanti</td>\n",
       "      <td>Female</td>\n",
       "      <td>60</td>\n",
       "      <td>23</td>\n",
       "      <td>69</td>\n",
       "      <td>76</td>\n",
       "      <td>67</td>\n",
       "      <td>67</td>\n",
       "      <td>70</td>\n",
       "      <td>432</td>\n",
       "      <td>Sumanjali Ponnenkanti</td>\n",
       "      <td>C</td>\n",
       "      <td>salesforce</td>\n",
       "    </tr>\n",
       "    <tr>\n",
       "      <th>18</th>\n",
       "      <td>Geetha</td>\n",
       "      <td>Katukuri</td>\n",
       "      <td>Female</td>\n",
       "      <td>55</td>\n",
       "      <td>40</td>\n",
       "      <td>76</td>\n",
       "      <td>98</td>\n",
       "      <td>78</td>\n",
       "      <td>66</td>\n",
       "      <td>66</td>\n",
       "      <td>479</td>\n",
       "      <td>Geetha Katukuri</td>\n",
       "      <td>D</td>\n",
       "      <td>snowflake</td>\n",
       "    </tr>\n",
       "    <tr>\n",
       "      <th>19</th>\n",
       "      <td>Prakash</td>\n",
       "      <td>Pothukunuri</td>\n",
       "      <td>Male</td>\n",
       "      <td>88</td>\n",
       "      <td>1</td>\n",
       "      <td>11</td>\n",
       "      <td>0</td>\n",
       "      <td>88</td>\n",
       "      <td>11</td>\n",
       "      <td>87</td>\n",
       "      <td>286</td>\n",
       "      <td>Prakash Pothukunuri</td>\n",
       "      <td>B</td>\n",
       "      <td>Python</td>\n",
       "    </tr>\n",
       "  </tbody>\n",
       "</table>\n",
       "</div>"
      ],
      "text/plain": [
       "      First_name    Last_name  Gender  Chemistry  Maths  Biology  English  \\\n",
       "15       Shivani        Thota  Female         76     41       88       63   \n",
       "16  Sathya_bhama      Nemilla  Female         98     33       63       69   \n",
       "17     Sumanjali  Ponnenkanti  Female         60     23       69       76   \n",
       "18        Geetha     Katukuri  Female         55     40       76       98   \n",
       "19       Prakash  Pothukunuri    Male         88      1       11        0   \n",
       "\n",
       "    Social  Hindi  Physics  Overall_marks              Full_name Grades  \\\n",
       "15      87     46       89            490          Shivani Thota      A   \n",
       "16      56     98       87            504   Sathya_bhama Nemilla      A   \n",
       "17      67     67       70            432  Sumanjali Ponnenkanti      C   \n",
       "18      78     66       66            479        Geetha Katukuri      D   \n",
       "19      88     11       87            286    Prakash Pothukunuri      B   \n",
       "\n",
       "       Subject  \n",
       "15   Analytics  \n",
       "16     dot net  \n",
       "17  salesforce  \n",
       "18   snowflake  \n",
       "19      Python  "
      ]
     },
     "execution_count": 13,
     "metadata": {},
     "output_type": "execute_result"
    }
   ],
   "source": [
    "#printing the last five rows of the dataset\n",
    "data.tail()"
   ]
  },
  {
   "cell_type": "code",
   "execution_count": 16,
   "id": "ce9793a1",
   "metadata": {},
   "outputs": [
    {
     "data": {
      "text/plain": [
       "471.25"
      ]
     },
     "execution_count": 16,
     "metadata": {},
     "output_type": "execute_result"
    }
   ],
   "source": [
    "#Calculating the Mean of the overall_marks\n",
    "mean_data = data['Overall_marks'].mean()\n",
    "mean_data"
   ]
  },
  {
   "cell_type": "markdown",
   "id": "cf37f7b3",
   "metadata": {},
   "source": [
    "##### 1.4 Outliers of the Dataset"
   ]
  },
  {
   "cell_type": "markdown",
   "id": "ce841661",
   "metadata": {},
   "source": [
    ">Any value that falls outside of the data_range is called Outlier\n",
    "\n",
    "- Suppose outlier is greter or less than the range it must be effected to the MEAN of the entire Dataset \n",
    "- To detect outlier we have to use the MEDIAN concept"
   ]
  },
  {
   "cell_type": "markdown",
   "id": "cd83b7a8",
   "metadata": {},
   "source": [
    "##### 1.5 MEDIAN"
   ]
  },
  {
   "cell_type": "code",
   "execution_count": 21,
   "id": "eafeb4af",
   "metadata": {},
   "outputs": [],
   "source": [
    "#Importing library\n",
    "import pandas as pd"
   ]
  },
  {
   "cell_type": "code",
   "execution_count": 22,
   "id": "3153f08b",
   "metadata": {},
   "outputs": [],
   "source": [
    "#load the dataset\n",
    "data = pd.read_excel(r\"D:\\Excel\\releted to datascience excel files\\marks_sheet.xlsx\")"
   ]
  },
  {
   "cell_type": "code",
   "execution_count": 23,
   "id": "7ff895b1",
   "metadata": {},
   "outputs": [
    {
     "data": {
      "text/html": [
       "<div>\n",
       "<style scoped>\n",
       "    .dataframe tbody tr th:only-of-type {\n",
       "        vertical-align: middle;\n",
       "    }\n",
       "\n",
       "    .dataframe tbody tr th {\n",
       "        vertical-align: top;\n",
       "    }\n",
       "\n",
       "    .dataframe thead th {\n",
       "        text-align: right;\n",
       "    }\n",
       "</style>\n",
       "<table border=\"1\" class=\"dataframe\">\n",
       "  <thead>\n",
       "    <tr style=\"text-align: right;\">\n",
       "      <th></th>\n",
       "      <th>First_name</th>\n",
       "      <th>Last_name</th>\n",
       "      <th>Gender</th>\n",
       "      <th>Chemistry</th>\n",
       "      <th>Maths</th>\n",
       "      <th>Biology</th>\n",
       "      <th>English</th>\n",
       "      <th>Social</th>\n",
       "      <th>Hindi</th>\n",
       "      <th>Physics</th>\n",
       "      <th>Overall_marks</th>\n",
       "      <th>Full_name</th>\n",
       "      <th>Grades</th>\n",
       "      <th>Subject</th>\n",
       "    </tr>\n",
       "  </thead>\n",
       "  <tbody>\n",
       "    <tr>\n",
       "      <th>0</th>\n",
       "      <td>Yogesh</td>\n",
       "      <td>Modepalli</td>\n",
       "      <td>Male</td>\n",
       "      <td>76</td>\n",
       "      <td>74</td>\n",
       "      <td>98</td>\n",
       "      <td>90</td>\n",
       "      <td>92</td>\n",
       "      <td>92</td>\n",
       "      <td>70</td>\n",
       "      <td>592</td>\n",
       "      <td>Yogesh Modepalli</td>\n",
       "      <td>A</td>\n",
       "      <td>Python</td>\n",
       "    </tr>\n",
       "    <tr>\n",
       "      <th>1</th>\n",
       "      <td>Paul</td>\n",
       "      <td>Revu</td>\n",
       "      <td>Male</td>\n",
       "      <td>55</td>\n",
       "      <td>50</td>\n",
       "      <td>38</td>\n",
       "      <td>88</td>\n",
       "      <td>88</td>\n",
       "      <td>88</td>\n",
       "      <td>69</td>\n",
       "      <td>476</td>\n",
       "      <td>Paul Revu</td>\n",
       "      <td>B</td>\n",
       "      <td>Java</td>\n",
       "    </tr>\n",
       "    <tr>\n",
       "      <th>2</th>\n",
       "      <td>Eswar</td>\n",
       "      <td>Banoth</td>\n",
       "      <td>Male</td>\n",
       "      <td>76</td>\n",
       "      <td>60</td>\n",
       "      <td>61</td>\n",
       "      <td>63</td>\n",
       "      <td>63</td>\n",
       "      <td>63</td>\n",
       "      <td>83</td>\n",
       "      <td>469</td>\n",
       "      <td>Eswar Banoth</td>\n",
       "      <td>D</td>\n",
       "      <td>C#</td>\n",
       "    </tr>\n",
       "    <tr>\n",
       "      <th>3</th>\n",
       "      <td>Vasanthi</td>\n",
       "      <td>Kalvani</td>\n",
       "      <td>Female</td>\n",
       "      <td>89</td>\n",
       "      <td>67</td>\n",
       "      <td>49</td>\n",
       "      <td>69</td>\n",
       "      <td>69</td>\n",
       "      <td>69</td>\n",
       "      <td>76</td>\n",
       "      <td>488</td>\n",
       "      <td>Vasanthi Kalvani</td>\n",
       "      <td>C</td>\n",
       "      <td>java</td>\n",
       "    </tr>\n",
       "    <tr>\n",
       "      <th>4</th>\n",
       "      <td>Ruya Khan</td>\n",
       "      <td>Mohamadh</td>\n",
       "      <td>Female</td>\n",
       "      <td>87</td>\n",
       "      <td>65</td>\n",
       "      <td>80</td>\n",
       "      <td>76</td>\n",
       "      <td>76</td>\n",
       "      <td>76</td>\n",
       "      <td>92</td>\n",
       "      <td>552</td>\n",
       "      <td>Ruya Khan Mohamadh</td>\n",
       "      <td>D</td>\n",
       "      <td>C++</td>\n",
       "    </tr>\n",
       "  </tbody>\n",
       "</table>\n",
       "</div>"
      ],
      "text/plain": [
       "  First_name  Last_name  Gender  Chemistry  Maths  Biology  English  Social  \\\n",
       "0     Yogesh  Modepalli    Male         76     74       98       90      92   \n",
       "1       Paul       Revu    Male         55     50       38       88      88   \n",
       "2      Eswar     Banoth    Male         76     60       61       63      63   \n",
       "3   Vasanthi    Kalvani  Female         89     67       49       69      69   \n",
       "4  Ruya Khan   Mohamadh  Female         87     65       80       76      76   \n",
       "\n",
       "   Hindi  Physics  Overall_marks           Full_name Grades Subject  \n",
       "0     92       70            592    Yogesh Modepalli      A  Python  \n",
       "1     88       69            476           Paul Revu      B    Java  \n",
       "2     63       83            469        Eswar Banoth      D      C#  \n",
       "3     69       76            488    Vasanthi Kalvani      C    java  \n",
       "4     76       92            552  Ruya Khan Mohamadh      D     C++  "
      ]
     },
     "execution_count": 23,
     "metadata": {},
     "output_type": "execute_result"
    }
   ],
   "source": [
    "#printing the first 5 rows\n",
    "data.head()"
   ]
  },
  {
   "cell_type": "code",
   "execution_count": 25,
   "id": "4a8a5ec6",
   "metadata": {},
   "outputs": [
    {
     "data": {
      "text/plain": [
       "487.0"
      ]
     },
     "execution_count": 25,
     "metadata": {},
     "output_type": "execute_result"
    }
   ],
   "source": [
    "#Calculating the Median\n",
    "median_of_data = data[\"Overall_marks\"].median()\n",
    "median_of_data"
   ]
  },
  {
   "cell_type": "markdown",
   "id": "64948e06",
   "metadata": {},
   "source": [
    "> Calculating quantile's because checking any outliers are presented in the dataset\n",
    "\n",
    "- Quantile means 25% of the data"
   ]
  },
  {
   "cell_type": "code",
   "execution_count": 26,
   "id": "acc1337c",
   "metadata": {},
   "outputs": [],
   "source": [
    "#Calculating 25%, 50%, 75%, 100% quantiles respectively.\n",
    "quantile1 = data['Overall_marks'].quantile(0.25)\n",
    "\n",
    "quantile2 = data[\"Overall_marks\"].quantile(0.50)\n",
    "\n",
    "quantile3 = data[\"Overall_marks\"].quantile(0.75)\n",
    "\n",
    "quantile4 = data[\"Overall_marks\"].quantile(1)"
   ]
  },
  {
   "cell_type": "code",
   "execution_count": 28,
   "id": "d074cbbc",
   "metadata": {},
   "outputs": [
    {
     "name": "stdout",
     "output_type": "stream",
     "text": [
      "First Quantile is:--- 444.0\n",
      "Second Quantile is:-- 487.0\n",
      "third quantile is:-- 507.0\n",
      "fourth quantile or last quantile 592.0\n"
     ]
    }
   ],
   "source": [
    "# printing all quantiles\n",
    "print(\"First Quantile is:---\", quantile1)\n",
    "print(\"Second Quantile is:--\",quantile2)\n",
    "print(\"third quantile is:--\", quantile3)\n",
    "print(\"fourth quantile or last quantile\",quantile4)"
   ]
  },
  {
   "cell_type": "markdown",
   "id": "e602292a",
   "metadata": {},
   "source": [
    "##### 1.6 Spread of the data"
   ]
  },
  {
   "cell_type": "markdown",
   "id": "1987035f",
   "metadata": {},
   "source": [
    "> To measure how for the data is away from the mean or median. Here is the example program for understanding the spread of the data"
   ]
  },
  {
   "cell_type": "code",
   "execution_count": 30,
   "id": "7be83721",
   "metadata": {},
   "outputs": [],
   "source": [
    "#importing libraries\n",
    "import pandas\n",
    "\n",
    "#reading the dataset\n",
    "data = pd.read_excel(r\"D:\\Excel\\releted to datascience excel files\\marks_sheet.xlsx\")"
   ]
  },
  {
   "cell_type": "code",
   "execution_count": 31,
   "id": "e775a870",
   "metadata": {},
   "outputs": [
    {
     "data": {
      "text/html": [
       "<div>\n",
       "<style scoped>\n",
       "    .dataframe tbody tr th:only-of-type {\n",
       "        vertical-align: middle;\n",
       "    }\n",
       "\n",
       "    .dataframe tbody tr th {\n",
       "        vertical-align: top;\n",
       "    }\n",
       "\n",
       "    .dataframe thead th {\n",
       "        text-align: right;\n",
       "    }\n",
       "</style>\n",
       "<table border=\"1\" class=\"dataframe\">\n",
       "  <thead>\n",
       "    <tr style=\"text-align: right;\">\n",
       "      <th></th>\n",
       "      <th>First_name</th>\n",
       "      <th>Last_name</th>\n",
       "      <th>Gender</th>\n",
       "      <th>Chemistry</th>\n",
       "      <th>Maths</th>\n",
       "      <th>Biology</th>\n",
       "      <th>English</th>\n",
       "      <th>Social</th>\n",
       "      <th>Hindi</th>\n",
       "      <th>Physics</th>\n",
       "      <th>Overall_marks</th>\n",
       "      <th>Full_name</th>\n",
       "      <th>Grades</th>\n",
       "      <th>Subject</th>\n",
       "    </tr>\n",
       "  </thead>\n",
       "  <tbody>\n",
       "    <tr>\n",
       "      <th>0</th>\n",
       "      <td>Yogesh</td>\n",
       "      <td>Modepalli</td>\n",
       "      <td>Male</td>\n",
       "      <td>76</td>\n",
       "      <td>74</td>\n",
       "      <td>98</td>\n",
       "      <td>90</td>\n",
       "      <td>92</td>\n",
       "      <td>92</td>\n",
       "      <td>70</td>\n",
       "      <td>592</td>\n",
       "      <td>Yogesh Modepalli</td>\n",
       "      <td>A</td>\n",
       "      <td>Python</td>\n",
       "    </tr>\n",
       "    <tr>\n",
       "      <th>1</th>\n",
       "      <td>Paul</td>\n",
       "      <td>Revu</td>\n",
       "      <td>Male</td>\n",
       "      <td>55</td>\n",
       "      <td>50</td>\n",
       "      <td>38</td>\n",
       "      <td>88</td>\n",
       "      <td>88</td>\n",
       "      <td>88</td>\n",
       "      <td>69</td>\n",
       "      <td>476</td>\n",
       "      <td>Paul Revu</td>\n",
       "      <td>B</td>\n",
       "      <td>Java</td>\n",
       "    </tr>\n",
       "    <tr>\n",
       "      <th>2</th>\n",
       "      <td>Eswar</td>\n",
       "      <td>Banoth</td>\n",
       "      <td>Male</td>\n",
       "      <td>76</td>\n",
       "      <td>60</td>\n",
       "      <td>61</td>\n",
       "      <td>63</td>\n",
       "      <td>63</td>\n",
       "      <td>63</td>\n",
       "      <td>83</td>\n",
       "      <td>469</td>\n",
       "      <td>Eswar Banoth</td>\n",
       "      <td>D</td>\n",
       "      <td>C#</td>\n",
       "    </tr>\n",
       "    <tr>\n",
       "      <th>3</th>\n",
       "      <td>Vasanthi</td>\n",
       "      <td>Kalvani</td>\n",
       "      <td>Female</td>\n",
       "      <td>89</td>\n",
       "      <td>67</td>\n",
       "      <td>49</td>\n",
       "      <td>69</td>\n",
       "      <td>69</td>\n",
       "      <td>69</td>\n",
       "      <td>76</td>\n",
       "      <td>488</td>\n",
       "      <td>Vasanthi Kalvani</td>\n",
       "      <td>C</td>\n",
       "      <td>java</td>\n",
       "    </tr>\n",
       "    <tr>\n",
       "      <th>4</th>\n",
       "      <td>Ruya Khan</td>\n",
       "      <td>Mohamadh</td>\n",
       "      <td>Female</td>\n",
       "      <td>87</td>\n",
       "      <td>65</td>\n",
       "      <td>80</td>\n",
       "      <td>76</td>\n",
       "      <td>76</td>\n",
       "      <td>76</td>\n",
       "      <td>92</td>\n",
       "      <td>552</td>\n",
       "      <td>Ruya Khan Mohamadh</td>\n",
       "      <td>D</td>\n",
       "      <td>C++</td>\n",
       "    </tr>\n",
       "  </tbody>\n",
       "</table>\n",
       "</div>"
      ],
      "text/plain": [
       "  First_name  Last_name  Gender  Chemistry  Maths  Biology  English  Social  \\\n",
       "0     Yogesh  Modepalli    Male         76     74       98       90      92   \n",
       "1       Paul       Revu    Male         55     50       38       88      88   \n",
       "2      Eswar     Banoth    Male         76     60       61       63      63   \n",
       "3   Vasanthi    Kalvani  Female         89     67       49       69      69   \n",
       "4  Ruya Khan   Mohamadh  Female         87     65       80       76      76   \n",
       "\n",
       "   Hindi  Physics  Overall_marks           Full_name Grades Subject  \n",
       "0     92       70            592    Yogesh Modepalli      A  Python  \n",
       "1     88       69            476           Paul Revu      B    Java  \n",
       "2     63       83            469        Eswar Banoth      D      C#  \n",
       "3     69       76            488    Vasanthi Kalvani      C    java  \n",
       "4     76       92            552  Ruya Khan Mohamadh      D     C++  "
      ]
     },
     "execution_count": 31,
     "metadata": {},
     "output_type": "execute_result"
    }
   ],
   "source": [
    "#printing the first 5 rows of the dataset\n",
    "data.head()"
   ]
  },
  {
   "cell_type": "code",
   "execution_count": 33,
   "id": "552026b7",
   "metadata": {},
   "outputs": [
    {
     "data": {
      "text/plain": [
       "286"
      ]
     },
     "execution_count": 33,
     "metadata": {},
     "output_type": "execute_result"
    }
   ],
   "source": [
    "#Finding the min value in the Overall_marks column\n",
    "minimum = data[\"Overall_marks\"].min()\n",
    "minimum"
   ]
  },
  {
   "cell_type": "code",
   "execution_count": 35,
   "id": "29fedd24",
   "metadata": {},
   "outputs": [
    {
     "data": {
      "text/plain": [
       "592"
      ]
     },
     "execution_count": 35,
     "metadata": {},
     "output_type": "execute_result"
    }
   ],
   "source": [
    "#Finding the max value in the Overall_marks column\n",
    "maximum = data['Overall_marks'].max()\n",
    "maximum"
   ]
  },
  {
   "cell_type": "code",
   "execution_count": 36,
   "id": "55462f66",
   "metadata": {},
   "outputs": [
    {
     "data": {
      "text/plain": [
       "306"
      ]
     },
     "execution_count": 36,
     "metadata": {},
     "output_type": "execute_result"
    }
   ],
   "source": [
    "#finding the Range of the overall_marks column, with help of the Min and Max\n",
    "range_of_OverallMarks = maximum - minimum\n",
    "range_of_OverallMarks"
   ]
  },
  {
   "cell_type": "markdown",
   "id": "1f5a1962",
   "metadata": {},
   "source": [
    ">The diffrence between third quantile and first quantile is called the INTER QUANTILE RANGE"
   ]
  },
  {
   "cell_type": "code",
   "execution_count": 37,
   "id": "7b63408e",
   "metadata": {},
   "outputs": [],
   "source": [
    "#Calculating the inter quartile range.(printing the third quantile and first quantile)\n",
    "quantile1 = data[\"Overall_marks\"].quantile(0.25)\n",
    "quantile3 = data['Overall_marks'].quantile(0.75)"
   ]
  },
  {
   "cell_type": "code",
   "execution_count": 39,
   "id": "379b5f1d",
   "metadata": {},
   "outputs": [
    {
     "data": {
      "text/plain": [
       "63.0"
      ]
     },
     "execution_count": 39,
     "metadata": {},
     "output_type": "execute_result"
    }
   ],
   "source": [
    "#finding the inter quartile Range\n",
    "inter_quartile_range = quantile3 - quantile1\n",
    "inter_quartile_range"
   ]
  },
  {
   "cell_type": "markdown",
   "id": "8fa3998a",
   "metadata": {},
   "source": [
    "#### 1.7 Calculating variance of the dataset"
   ]
  },
  {
   "cell_type": "markdown",
   "id": "bf6bde35",
   "metadata": {},
   "source": [
    ">Varience measures variability from the average or mean. here are steps for calculting the varience\n",
    "\n",
    "- calculate the mean\n",
    "- calculate distance from the mean of a each element\n",
    "- calculate the squared distance\n",
    "- take average of the squared distance\n",
    "> here is the example program for calculating the varience"
   ]
  },
  {
   "cell_type": "code",
   "execution_count": 40,
   "id": "5e2fe224",
   "metadata": {},
   "outputs": [],
   "source": [
    "#importing the libraries\n",
    "import pandas as pd\n",
    "data = pd.read_excel(r\"D:\\Excel\\releted to datascience excel files\\marks_sheet.xlsx\")"
   ]
  },
  {
   "cell_type": "code",
   "execution_count": 41,
   "id": "b2347c06",
   "metadata": {},
   "outputs": [
    {
     "data": {
      "text/html": [
       "<div>\n",
       "<style scoped>\n",
       "    .dataframe tbody tr th:only-of-type {\n",
       "        vertical-align: middle;\n",
       "    }\n",
       "\n",
       "    .dataframe tbody tr th {\n",
       "        vertical-align: top;\n",
       "    }\n",
       "\n",
       "    .dataframe thead th {\n",
       "        text-align: right;\n",
       "    }\n",
       "</style>\n",
       "<table border=\"1\" class=\"dataframe\">\n",
       "  <thead>\n",
       "    <tr style=\"text-align: right;\">\n",
       "      <th></th>\n",
       "      <th>First_name</th>\n",
       "      <th>Last_name</th>\n",
       "      <th>Gender</th>\n",
       "      <th>Chemistry</th>\n",
       "      <th>Maths</th>\n",
       "      <th>Biology</th>\n",
       "      <th>English</th>\n",
       "      <th>Social</th>\n",
       "      <th>Hindi</th>\n",
       "      <th>Physics</th>\n",
       "      <th>Overall_marks</th>\n",
       "      <th>Full_name</th>\n",
       "      <th>Grades</th>\n",
       "      <th>Subject</th>\n",
       "    </tr>\n",
       "  </thead>\n",
       "  <tbody>\n",
       "    <tr>\n",
       "      <th>0</th>\n",
       "      <td>Yogesh</td>\n",
       "      <td>Modepalli</td>\n",
       "      <td>Male</td>\n",
       "      <td>76</td>\n",
       "      <td>74</td>\n",
       "      <td>98</td>\n",
       "      <td>90</td>\n",
       "      <td>92</td>\n",
       "      <td>92</td>\n",
       "      <td>70</td>\n",
       "      <td>592</td>\n",
       "      <td>Yogesh Modepalli</td>\n",
       "      <td>A</td>\n",
       "      <td>Python</td>\n",
       "    </tr>\n",
       "    <tr>\n",
       "      <th>1</th>\n",
       "      <td>Paul</td>\n",
       "      <td>Revu</td>\n",
       "      <td>Male</td>\n",
       "      <td>55</td>\n",
       "      <td>50</td>\n",
       "      <td>38</td>\n",
       "      <td>88</td>\n",
       "      <td>88</td>\n",
       "      <td>88</td>\n",
       "      <td>69</td>\n",
       "      <td>476</td>\n",
       "      <td>Paul Revu</td>\n",
       "      <td>B</td>\n",
       "      <td>Java</td>\n",
       "    </tr>\n",
       "    <tr>\n",
       "      <th>2</th>\n",
       "      <td>Eswar</td>\n",
       "      <td>Banoth</td>\n",
       "      <td>Male</td>\n",
       "      <td>76</td>\n",
       "      <td>60</td>\n",
       "      <td>61</td>\n",
       "      <td>63</td>\n",
       "      <td>63</td>\n",
       "      <td>63</td>\n",
       "      <td>83</td>\n",
       "      <td>469</td>\n",
       "      <td>Eswar Banoth</td>\n",
       "      <td>D</td>\n",
       "      <td>C#</td>\n",
       "    </tr>\n",
       "    <tr>\n",
       "      <th>3</th>\n",
       "      <td>Vasanthi</td>\n",
       "      <td>Kalvani</td>\n",
       "      <td>Female</td>\n",
       "      <td>89</td>\n",
       "      <td>67</td>\n",
       "      <td>49</td>\n",
       "      <td>69</td>\n",
       "      <td>69</td>\n",
       "      <td>69</td>\n",
       "      <td>76</td>\n",
       "      <td>488</td>\n",
       "      <td>Vasanthi Kalvani</td>\n",
       "      <td>C</td>\n",
       "      <td>java</td>\n",
       "    </tr>\n",
       "    <tr>\n",
       "      <th>4</th>\n",
       "      <td>Ruya Khan</td>\n",
       "      <td>Mohamadh</td>\n",
       "      <td>Female</td>\n",
       "      <td>87</td>\n",
       "      <td>65</td>\n",
       "      <td>80</td>\n",
       "      <td>76</td>\n",
       "      <td>76</td>\n",
       "      <td>76</td>\n",
       "      <td>92</td>\n",
       "      <td>552</td>\n",
       "      <td>Ruya Khan Mohamadh</td>\n",
       "      <td>D</td>\n",
       "      <td>C++</td>\n",
       "    </tr>\n",
       "  </tbody>\n",
       "</table>\n",
       "</div>"
      ],
      "text/plain": [
       "  First_name  Last_name  Gender  Chemistry  Maths  Biology  English  Social  \\\n",
       "0     Yogesh  Modepalli    Male         76     74       98       90      92   \n",
       "1       Paul       Revu    Male         55     50       38       88      88   \n",
       "2      Eswar     Banoth    Male         76     60       61       63      63   \n",
       "3   Vasanthi    Kalvani  Female         89     67       49       69      69   \n",
       "4  Ruya Khan   Mohamadh  Female         87     65       80       76      76   \n",
       "\n",
       "   Hindi  Physics  Overall_marks           Full_name Grades Subject  \n",
       "0     92       70            592    Yogesh Modepalli      A  Python  \n",
       "1     88       69            476           Paul Revu      B    Java  \n",
       "2     63       83            469        Eswar Banoth      D      C#  \n",
       "3     69       76            488    Vasanthi Kalvani      C    java  \n",
       "4     76       92            552  Ruya Khan Mohamadh      D     C++  "
      ]
     },
     "execution_count": 41,
     "metadata": {},
     "output_type": "execute_result"
    }
   ],
   "source": [
    "#printing the first 5 rows of the dataset\n",
    "data. head()"
   ]
  },
  {
   "cell_type": "code",
   "execution_count": 43,
   "id": "dae9157f",
   "metadata": {},
   "outputs": [
    {
     "data": {
      "text/plain": [
       "471.25"
      ]
     },
     "execution_count": 43,
     "metadata": {},
     "output_type": "execute_result"
    }
   ],
   "source": [
    "#Step1: calculating mean of the dataset\n",
    "mean_of_dataset = data[\"Overall_marks\"].mean()\n",
    "mean_of_dataset"
   ]
  },
  {
   "cell_type": "code",
   "execution_count": 45,
   "id": "b04501fe",
   "metadata": {},
   "outputs": [
    {
     "data": {
      "text/plain": [
       "0     120.75\n",
       "1       4.75\n",
       "2      -2.25\n",
       "3      16.75\n",
       "4      80.75\n",
       "5      23.75\n",
       "6    -123.25\n",
       "7     -89.25\n",
       "8      14.75\n",
       "9     -61.25\n",
       "10     33.75\n",
       "11     41.75\n",
       "12     50.75\n",
       "13    -23.25\n",
       "14     76.75\n",
       "15     18.75\n",
       "16     32.75\n",
       "17    -39.25\n",
       "18      7.75\n",
       "19   -185.25\n",
       "Name: Overall_marks, dtype: float64"
      ]
     },
     "execution_count": 45,
     "metadata": {},
     "output_type": "execute_result"
    }
   ],
   "source": [
    "#Step2: Calculate distance from the mean of a each element\n",
    "distance = data[\"Overall_marks\"] - mean_of_dataset\n",
    "distance"
   ]
  },
  {
   "cell_type": "code",
   "execution_count": 46,
   "id": "e98bbcd8",
   "metadata": {},
   "outputs": [
    {
     "data": {
      "text/plain": [
       "0     14580.5625\n",
       "1        22.5625\n",
       "2         5.0625\n",
       "3       280.5625\n",
       "4      6520.5625\n",
       "5       564.0625\n",
       "6     15190.5625\n",
       "7      7965.5625\n",
       "8       217.5625\n",
       "9      3751.5625\n",
       "10     1139.0625\n",
       "11     1743.0625\n",
       "12     2575.5625\n",
       "13      540.5625\n",
       "14     5890.5625\n",
       "15      351.5625\n",
       "16     1072.5625\n",
       "17     1540.5625\n",
       "18       60.0625\n",
       "19    34317.5625\n",
       "Name: Overall_marks, dtype: float64"
      ]
     },
     "execution_count": 46,
     "metadata": {},
     "output_type": "execute_result"
    }
   ],
   "source": [
    "#Step3: Calculate the squared distance for all the elements\n",
    "squared_distance = distance**2\n",
    "squared_distance"
   ]
  },
  {
   "cell_type": "code",
   "execution_count": 51,
   "id": "773b848a",
   "metadata": {},
   "outputs": [
    {
     "data": {
      "text/plain": [
       "4916.4875"
      ]
     },
     "execution_count": 51,
     "metadata": {},
     "output_type": "execute_result"
    }
   ],
   "source": [
    "#Step4: Taking the average of the squared_distance or varience\n",
    "varience = squared_distance. mean()\n",
    "varience"
   ]
  },
  {
   "cell_type": "markdown",
   "id": "7252fbde",
   "metadata": {},
   "source": [
    "we can calculate the varience by using the formula. Here is the formula calculating the Varience"
   ]
  },
  {
   "cell_type": "code",
   "execution_count": 53,
   "id": "1f86c694",
   "metadata": {},
   "outputs": [
    {
     "data": {
      "text/plain": [
       "4916.4875"
      ]
     },
     "execution_count": 53,
     "metadata": {},
     "output_type": "execute_result"
    }
   ],
   "source": [
    "varience1 = data[\"Overall_marks\"].var(ddof = 0)\n",
    "varience1"
   ]
  },
  {
   "cell_type": "markdown",
   "id": "e106eedd",
   "metadata": {},
   "source": [
    "#### 1.8 Calculating the Standard Deviation"
   ]
  },
  {
   "cell_type": "markdown",
   "id": "7d6808f8",
   "metadata": {},
   "source": [
    ">The squared root of the Varience is called  Standard deviatin. here is the steps for calculating the standard deviation.Those are\n",
    "\n",
    "- calculate the mean\n",
    "- calculate distance from the mean of a each element\n",
    "- calculate the squared distance\n",
    "- take average of the squared distance(it is varience)\n",
    "- do the squared root of the varience(the output is standard deviation)\n"
   ]
  },
  {
   "cell_type": "code",
   "execution_count": 54,
   "id": "1eebcac3",
   "metadata": {},
   "outputs": [],
   "source": [
    "#importing the libraries\n",
    "import pandas as pd\n",
    "data = pd.read_excel(r\"D:\\Excel\\releted to datascience excel files\\marks_sheet.xlsx\")"
   ]
  },
  {
   "cell_type": "code",
   "execution_count": 55,
   "id": "509d83d0",
   "metadata": {},
   "outputs": [
    {
     "data": {
      "text/html": [
       "<div>\n",
       "<style scoped>\n",
       "    .dataframe tbody tr th:only-of-type {\n",
       "        vertical-align: middle;\n",
       "    }\n",
       "\n",
       "    .dataframe tbody tr th {\n",
       "        vertical-align: top;\n",
       "    }\n",
       "\n",
       "    .dataframe thead th {\n",
       "        text-align: right;\n",
       "    }\n",
       "</style>\n",
       "<table border=\"1\" class=\"dataframe\">\n",
       "  <thead>\n",
       "    <tr style=\"text-align: right;\">\n",
       "      <th></th>\n",
       "      <th>First_name</th>\n",
       "      <th>Last_name</th>\n",
       "      <th>Gender</th>\n",
       "      <th>Chemistry</th>\n",
       "      <th>Maths</th>\n",
       "      <th>Biology</th>\n",
       "      <th>English</th>\n",
       "      <th>Social</th>\n",
       "      <th>Hindi</th>\n",
       "      <th>Physics</th>\n",
       "      <th>Overall_marks</th>\n",
       "      <th>Full_name</th>\n",
       "      <th>Grades</th>\n",
       "      <th>Subject</th>\n",
       "    </tr>\n",
       "  </thead>\n",
       "  <tbody>\n",
       "    <tr>\n",
       "      <th>0</th>\n",
       "      <td>Yogesh</td>\n",
       "      <td>Modepalli</td>\n",
       "      <td>Male</td>\n",
       "      <td>76</td>\n",
       "      <td>74</td>\n",
       "      <td>98</td>\n",
       "      <td>90</td>\n",
       "      <td>92</td>\n",
       "      <td>92</td>\n",
       "      <td>70</td>\n",
       "      <td>592</td>\n",
       "      <td>Yogesh Modepalli</td>\n",
       "      <td>A</td>\n",
       "      <td>Python</td>\n",
       "    </tr>\n",
       "    <tr>\n",
       "      <th>1</th>\n",
       "      <td>Paul</td>\n",
       "      <td>Revu</td>\n",
       "      <td>Male</td>\n",
       "      <td>55</td>\n",
       "      <td>50</td>\n",
       "      <td>38</td>\n",
       "      <td>88</td>\n",
       "      <td>88</td>\n",
       "      <td>88</td>\n",
       "      <td>69</td>\n",
       "      <td>476</td>\n",
       "      <td>Paul Revu</td>\n",
       "      <td>B</td>\n",
       "      <td>Java</td>\n",
       "    </tr>\n",
       "    <tr>\n",
       "      <th>2</th>\n",
       "      <td>Eswar</td>\n",
       "      <td>Banoth</td>\n",
       "      <td>Male</td>\n",
       "      <td>76</td>\n",
       "      <td>60</td>\n",
       "      <td>61</td>\n",
       "      <td>63</td>\n",
       "      <td>63</td>\n",
       "      <td>63</td>\n",
       "      <td>83</td>\n",
       "      <td>469</td>\n",
       "      <td>Eswar Banoth</td>\n",
       "      <td>D</td>\n",
       "      <td>C#</td>\n",
       "    </tr>\n",
       "    <tr>\n",
       "      <th>3</th>\n",
       "      <td>Vasanthi</td>\n",
       "      <td>Kalvani</td>\n",
       "      <td>Female</td>\n",
       "      <td>89</td>\n",
       "      <td>67</td>\n",
       "      <td>49</td>\n",
       "      <td>69</td>\n",
       "      <td>69</td>\n",
       "      <td>69</td>\n",
       "      <td>76</td>\n",
       "      <td>488</td>\n",
       "      <td>Vasanthi Kalvani</td>\n",
       "      <td>C</td>\n",
       "      <td>java</td>\n",
       "    </tr>\n",
       "    <tr>\n",
       "      <th>4</th>\n",
       "      <td>Ruya Khan</td>\n",
       "      <td>Mohamadh</td>\n",
       "      <td>Female</td>\n",
       "      <td>87</td>\n",
       "      <td>65</td>\n",
       "      <td>80</td>\n",
       "      <td>76</td>\n",
       "      <td>76</td>\n",
       "      <td>76</td>\n",
       "      <td>92</td>\n",
       "      <td>552</td>\n",
       "      <td>Ruya Khan Mohamadh</td>\n",
       "      <td>D</td>\n",
       "      <td>C++</td>\n",
       "    </tr>\n",
       "  </tbody>\n",
       "</table>\n",
       "</div>"
      ],
      "text/plain": [
       "  First_name  Last_name  Gender  Chemistry  Maths  Biology  English  Social  \\\n",
       "0     Yogesh  Modepalli    Male         76     74       98       90      92   \n",
       "1       Paul       Revu    Male         55     50       38       88      88   \n",
       "2      Eswar     Banoth    Male         76     60       61       63      63   \n",
       "3   Vasanthi    Kalvani  Female         89     67       49       69      69   \n",
       "4  Ruya Khan   Mohamadh  Female         87     65       80       76      76   \n",
       "\n",
       "   Hindi  Physics  Overall_marks           Full_name Grades Subject  \n",
       "0     92       70            592    Yogesh Modepalli      A  Python  \n",
       "1     88       69            476           Paul Revu      B    Java  \n",
       "2     63       83            469        Eswar Banoth      D      C#  \n",
       "3     69       76            488    Vasanthi Kalvani      C    java  \n",
       "4     76       92            552  Ruya Khan Mohamadh      D     C++  "
      ]
     },
     "execution_count": 55,
     "metadata": {},
     "output_type": "execute_result"
    }
   ],
   "source": [
    "#printing the first 5 rows of the dataset\n",
    "data. head()"
   ]
  },
  {
   "cell_type": "code",
   "execution_count": 56,
   "id": "796bc692",
   "metadata": {},
   "outputs": [
    {
     "data": {
      "text/plain": [
       "471.25"
      ]
     },
     "execution_count": 56,
     "metadata": {},
     "output_type": "execute_result"
    }
   ],
   "source": [
    "#Step1: calculating mean of the dataset\n",
    "mean_of_dataset = data[\"Overall_marks\"].mean()\n",
    "mean_of_dataset"
   ]
  },
  {
   "cell_type": "code",
   "execution_count": 57,
   "id": "225887f7",
   "metadata": {},
   "outputs": [
    {
     "data": {
      "text/plain": [
       "0     120.75\n",
       "1       4.75\n",
       "2      -2.25\n",
       "3      16.75\n",
       "4      80.75\n",
       "5      23.75\n",
       "6    -123.25\n",
       "7     -89.25\n",
       "8      14.75\n",
       "9     -61.25\n",
       "10     33.75\n",
       "11     41.75\n",
       "12     50.75\n",
       "13    -23.25\n",
       "14     76.75\n",
       "15     18.75\n",
       "16     32.75\n",
       "17    -39.25\n",
       "18      7.75\n",
       "19   -185.25\n",
       "Name: Overall_marks, dtype: float64"
      ]
     },
     "execution_count": 57,
     "metadata": {},
     "output_type": "execute_result"
    }
   ],
   "source": [
    "#Step2: Calculate distance from the mean of a each element\n",
    "distance = data[\"Overall_marks\"] - mean_of_dataset\n",
    "distance"
   ]
  },
  {
   "cell_type": "code",
   "execution_count": 58,
   "id": "3c173fd9",
   "metadata": {},
   "outputs": [
    {
     "data": {
      "text/plain": [
       "0     14580.5625\n",
       "1        22.5625\n",
       "2         5.0625\n",
       "3       280.5625\n",
       "4      6520.5625\n",
       "5       564.0625\n",
       "6     15190.5625\n",
       "7      7965.5625\n",
       "8       217.5625\n",
       "9      3751.5625\n",
       "10     1139.0625\n",
       "11     1743.0625\n",
       "12     2575.5625\n",
       "13      540.5625\n",
       "14     5890.5625\n",
       "15      351.5625\n",
       "16     1072.5625\n",
       "17     1540.5625\n",
       "18       60.0625\n",
       "19    34317.5625\n",
       "Name: Overall_marks, dtype: float64"
      ]
     },
     "execution_count": 58,
     "metadata": {},
     "output_type": "execute_result"
    }
   ],
   "source": [
    "#Step3: Calculate the squared distance for all the elements\n",
    "squared_distance = distance**2\n",
    "squared_distance"
   ]
  },
  {
   "cell_type": "code",
   "execution_count": 59,
   "id": "47a4ebce",
   "metadata": {},
   "outputs": [
    {
     "data": {
      "text/plain": [
       "4916.4875"
      ]
     },
     "execution_count": 59,
     "metadata": {},
     "output_type": "execute_result"
    }
   ],
   "source": [
    "#Step4: Taking the average of the squared_distance or varience\n",
    "varience = squared_distance. mean()\n",
    "varience"
   ]
  },
  {
   "cell_type": "code",
   "execution_count": 60,
   "id": "39cd92cf",
   "metadata": {},
   "outputs": [
    {
     "data": {
      "text/plain": [
       "70.11766895726069"
      ]
     },
     "execution_count": 60,
     "metadata": {},
     "output_type": "execute_result"
    }
   ],
   "source": [
    "#Step5: Calculating the square_root of the varience and that is our final output called STANDARD DEVIATION\n",
    "standard_deviation = varience ** (1/2)\n",
    "standard_deviation"
   ]
  },
  {
   "cell_type": "code",
   "execution_count": 61,
   "id": "6122e877",
   "metadata": {},
   "outputs": [
    {
     "data": {
      "text/plain": [
       "70.11766895726069"
      ]
     },
     "execution_count": 61,
     "metadata": {},
     "output_type": "execute_result"
    }
   ],
   "source": [
    "#We can directly get the standard deviation by using the following formula\n",
    "standard_deviation1 = data[\"Overall_marks\"].std(ddof = 0)\n",
    "standard_deviation1"
   ]
  }
 ],
 "metadata": {
  "kernelspec": {
   "display_name": "Python 3",
   "language": "python",
   "name": "python3"
  },
  "language_info": {
   "codemirror_mode": {
    "name": "ipython",
    "version": 3
   },
   "file_extension": ".py",
   "mimetype": "text/x-python",
   "name": "python",
   "nbconvert_exporter": "python",
   "pygments_lexer": "ipython3",
   "version": "3.8.8"
  }
 },
 "nbformat": 4,
 "nbformat_minor": 5
}
