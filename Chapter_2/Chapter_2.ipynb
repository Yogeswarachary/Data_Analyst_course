{
 "cells": [
  {
   "cell_type": "markdown",
   "id": "a0466e00",
   "metadata": {},
   "source": [
    "#### 2. Data distribution"
   ]
  },
  {
   "cell_type": "markdown",
   "id": "78acfbc2",
   "metadata": {},
   "source": [
    "##### 2.1 Frequency table"
   ]
  },
  {
   "cell_type": "markdown",
   "id": "410d75d0",
   "metadata": {},
   "source": [
    ">Frequency table is a table, that is used to find most frequently occured data items and it gives result in Decending Order.Here is the example program for the Frequency table"
   ]
  },
  {
   "cell_type": "code",
   "execution_count": 1,
   "id": "65d3b9b5",
   "metadata": {},
   "outputs": [],
   "source": [
    "#importing libraries\n",
    "import pandas as pd\n",
    "data = pd.read_excel(r\"D:\\Excel\\releted to datascience excel files\\marks_sheet.xlsx\")"
   ]
  },
  {
   "cell_type": "code",
   "execution_count": 2,
   "id": "7b09f960",
   "metadata": {},
   "outputs": [
    {
     "data": {
      "text/html": [
       "<div>\n",
       "<style scoped>\n",
       "    .dataframe tbody tr th:only-of-type {\n",
       "        vertical-align: middle;\n",
       "    }\n",
       "\n",
       "    .dataframe tbody tr th {\n",
       "        vertical-align: top;\n",
       "    }\n",
       "\n",
       "    .dataframe thead th {\n",
       "        text-align: right;\n",
       "    }\n",
       "</style>\n",
       "<table border=\"1\" class=\"dataframe\">\n",
       "  <thead>\n",
       "    <tr style=\"text-align: right;\">\n",
       "      <th></th>\n",
       "      <th>First_name</th>\n",
       "      <th>Last_name</th>\n",
       "      <th>Gender</th>\n",
       "      <th>Chemistry</th>\n",
       "      <th>Maths</th>\n",
       "      <th>Biology</th>\n",
       "      <th>English</th>\n",
       "      <th>Social</th>\n",
       "      <th>Hindi</th>\n",
       "      <th>Physics</th>\n",
       "      <th>Overall_marks</th>\n",
       "      <th>Full_name</th>\n",
       "      <th>Grades</th>\n",
       "      <th>Subject</th>\n",
       "    </tr>\n",
       "  </thead>\n",
       "  <tbody>\n",
       "    <tr>\n",
       "      <th>0</th>\n",
       "      <td>Yogesh</td>\n",
       "      <td>Modepalli</td>\n",
       "      <td>Male</td>\n",
       "      <td>76</td>\n",
       "      <td>74</td>\n",
       "      <td>98</td>\n",
       "      <td>90</td>\n",
       "      <td>92</td>\n",
       "      <td>92</td>\n",
       "      <td>70</td>\n",
       "      <td>592</td>\n",
       "      <td>Yogesh Modepalli</td>\n",
       "      <td>A</td>\n",
       "      <td>Python</td>\n",
       "    </tr>\n",
       "    <tr>\n",
       "      <th>1</th>\n",
       "      <td>Paul</td>\n",
       "      <td>Revu</td>\n",
       "      <td>Male</td>\n",
       "      <td>55</td>\n",
       "      <td>50</td>\n",
       "      <td>38</td>\n",
       "      <td>88</td>\n",
       "      <td>88</td>\n",
       "      <td>88</td>\n",
       "      <td>69</td>\n",
       "      <td>476</td>\n",
       "      <td>Paul Revu</td>\n",
       "      <td>B</td>\n",
       "      <td>Java</td>\n",
       "    </tr>\n",
       "    <tr>\n",
       "      <th>2</th>\n",
       "      <td>Eswar</td>\n",
       "      <td>Banoth</td>\n",
       "      <td>Male</td>\n",
       "      <td>76</td>\n",
       "      <td>60</td>\n",
       "      <td>61</td>\n",
       "      <td>63</td>\n",
       "      <td>63</td>\n",
       "      <td>63</td>\n",
       "      <td>83</td>\n",
       "      <td>469</td>\n",
       "      <td>Eswar Banoth</td>\n",
       "      <td>D</td>\n",
       "      <td>C#</td>\n",
       "    </tr>\n",
       "    <tr>\n",
       "      <th>3</th>\n",
       "      <td>Vasanthi</td>\n",
       "      <td>Kalvani</td>\n",
       "      <td>Female</td>\n",
       "      <td>89</td>\n",
       "      <td>67</td>\n",
       "      <td>49</td>\n",
       "      <td>69</td>\n",
       "      <td>69</td>\n",
       "      <td>69</td>\n",
       "      <td>76</td>\n",
       "      <td>488</td>\n",
       "      <td>Vasanthi Kalvani</td>\n",
       "      <td>C</td>\n",
       "      <td>java</td>\n",
       "    </tr>\n",
       "    <tr>\n",
       "      <th>4</th>\n",
       "      <td>Ruya Khan</td>\n",
       "      <td>Mohamadh</td>\n",
       "      <td>Female</td>\n",
       "      <td>87</td>\n",
       "      <td>65</td>\n",
       "      <td>80</td>\n",
       "      <td>76</td>\n",
       "      <td>76</td>\n",
       "      <td>76</td>\n",
       "      <td>92</td>\n",
       "      <td>552</td>\n",
       "      <td>Ruya Khan Mohamadh</td>\n",
       "      <td>D</td>\n",
       "      <td>C++</td>\n",
       "    </tr>\n",
       "  </tbody>\n",
       "</table>\n",
       "</div>"
      ],
      "text/plain": [
       "  First_name  Last_name  Gender  Chemistry  Maths  Biology  English  Social  \\\n",
       "0     Yogesh  Modepalli    Male         76     74       98       90      92   \n",
       "1       Paul       Revu    Male         55     50       38       88      88   \n",
       "2      Eswar     Banoth    Male         76     60       61       63      63   \n",
       "3   Vasanthi    Kalvani  Female         89     67       49       69      69   \n",
       "4  Ruya Khan   Mohamadh  Female         87     65       80       76      76   \n",
       "\n",
       "   Hindi  Physics  Overall_marks           Full_name Grades Subject  \n",
       "0     92       70            592    Yogesh Modepalli      A  Python  \n",
       "1     88       69            476           Paul Revu      B    Java  \n",
       "2     63       83            469        Eswar Banoth      D      C#  \n",
       "3     69       76            488    Vasanthi Kalvani      C    java  \n",
       "4     76       92            552  Ruya Khan Mohamadh      D     C++  "
      ]
     },
     "execution_count": 2,
     "metadata": {},
     "output_type": "execute_result"
    }
   ],
   "source": [
    "#printing the first 5 rows of the dataset\n",
    "data.head()"
   ]
  },
  {
   "cell_type": "code",
   "execution_count": 3,
   "id": "46cd4f8b",
   "metadata": {},
   "outputs": [
    {
     "data": {
      "text/plain": [
       "Python        5\n",
       "C#            2\n",
       "java          1\n",
       "Html          1\n",
       "C++           1\n",
       "J2ee          1\n",
       "Azure         1\n",
       "C-Prog        1\n",
       "Java          1\n",
       "salesforce    1\n",
       "AWS           1\n",
       "Analytics     1\n",
       "snowflake     1\n",
       "Cloud         1\n",
       "dot net       1\n",
       "Name: Subject, dtype: int64"
      ]
     },
     "execution_count": 3,
     "metadata": {},
     "output_type": "execute_result"
    }
   ],
   "source": [
    "#creating frequency table for categorical variable\n",
    "frequency_table = data[\"Subject\"].value_counts()\n",
    "frequency_table"
   ]
  },
  {
   "cell_type": "markdown",
   "id": "7bc17d59",
   "metadata": {},
   "source": [
    "##### 2.2 Histograms"
   ]
  },
  {
   "cell_type": "markdown",
   "id": "b93a3d04",
   "metadata": {},
   "source": [
    ">A histogram is a graphical, representation that organizes a group of data points into user-specified ranges similar to apperence in bar chart. Here is the example program for getting Histograms"
   ]
  },
  {
   "cell_type": "code",
   "execution_count": 4,
   "id": "835331c6",
   "metadata": {},
   "outputs": [
    {
     "data": {
      "text/html": [
       "<div>\n",
       "<style scoped>\n",
       "    .dataframe tbody tr th:only-of-type {\n",
       "        vertical-align: middle;\n",
       "    }\n",
       "\n",
       "    .dataframe tbody tr th {\n",
       "        vertical-align: top;\n",
       "    }\n",
       "\n",
       "    .dataframe thead th {\n",
       "        text-align: right;\n",
       "    }\n",
       "</style>\n",
       "<table border=\"1\" class=\"dataframe\">\n",
       "  <thead>\n",
       "    <tr style=\"text-align: right;\">\n",
       "      <th></th>\n",
       "      <th>First_name</th>\n",
       "      <th>Last_name</th>\n",
       "      <th>Gender</th>\n",
       "      <th>Chemistry</th>\n",
       "      <th>Maths</th>\n",
       "      <th>Biology</th>\n",
       "      <th>English</th>\n",
       "      <th>Social</th>\n",
       "      <th>Hindi</th>\n",
       "      <th>Physics</th>\n",
       "      <th>Overall_marks</th>\n",
       "      <th>Full_name</th>\n",
       "      <th>Grades</th>\n",
       "      <th>Subject</th>\n",
       "    </tr>\n",
       "  </thead>\n",
       "  <tbody>\n",
       "    <tr>\n",
       "      <th>0</th>\n",
       "      <td>Yogesh</td>\n",
       "      <td>Modepalli</td>\n",
       "      <td>Male</td>\n",
       "      <td>76</td>\n",
       "      <td>74</td>\n",
       "      <td>98</td>\n",
       "      <td>90</td>\n",
       "      <td>92</td>\n",
       "      <td>92</td>\n",
       "      <td>70</td>\n",
       "      <td>592</td>\n",
       "      <td>Yogesh Modepalli</td>\n",
       "      <td>A</td>\n",
       "      <td>Python</td>\n",
       "    </tr>\n",
       "    <tr>\n",
       "      <th>1</th>\n",
       "      <td>Paul</td>\n",
       "      <td>Revu</td>\n",
       "      <td>Male</td>\n",
       "      <td>55</td>\n",
       "      <td>50</td>\n",
       "      <td>38</td>\n",
       "      <td>88</td>\n",
       "      <td>88</td>\n",
       "      <td>88</td>\n",
       "      <td>69</td>\n",
       "      <td>476</td>\n",
       "      <td>Paul Revu</td>\n",
       "      <td>B</td>\n",
       "      <td>Java</td>\n",
       "    </tr>\n",
       "    <tr>\n",
       "      <th>2</th>\n",
       "      <td>Eswar</td>\n",
       "      <td>Banoth</td>\n",
       "      <td>Male</td>\n",
       "      <td>76</td>\n",
       "      <td>60</td>\n",
       "      <td>61</td>\n",
       "      <td>63</td>\n",
       "      <td>63</td>\n",
       "      <td>63</td>\n",
       "      <td>83</td>\n",
       "      <td>469</td>\n",
       "      <td>Eswar Banoth</td>\n",
       "      <td>D</td>\n",
       "      <td>C#</td>\n",
       "    </tr>\n",
       "    <tr>\n",
       "      <th>3</th>\n",
       "      <td>Vasanthi</td>\n",
       "      <td>Kalvani</td>\n",
       "      <td>Female</td>\n",
       "      <td>89</td>\n",
       "      <td>67</td>\n",
       "      <td>49</td>\n",
       "      <td>69</td>\n",
       "      <td>69</td>\n",
       "      <td>69</td>\n",
       "      <td>76</td>\n",
       "      <td>488</td>\n",
       "      <td>Vasanthi Kalvani</td>\n",
       "      <td>C</td>\n",
       "      <td>java</td>\n",
       "    </tr>\n",
       "    <tr>\n",
       "      <th>4</th>\n",
       "      <td>Ruya Khan</td>\n",
       "      <td>Mohamadh</td>\n",
       "      <td>Female</td>\n",
       "      <td>87</td>\n",
       "      <td>65</td>\n",
       "      <td>80</td>\n",
       "      <td>76</td>\n",
       "      <td>76</td>\n",
       "      <td>76</td>\n",
       "      <td>92</td>\n",
       "      <td>552</td>\n",
       "      <td>Ruya Khan Mohamadh</td>\n",
       "      <td>D</td>\n",
       "      <td>C++</td>\n",
       "    </tr>\n",
       "  </tbody>\n",
       "</table>\n",
       "</div>"
      ],
      "text/plain": [
       "  First_name  Last_name  Gender  Chemistry  Maths  Biology  English  Social  \\\n",
       "0     Yogesh  Modepalli    Male         76     74       98       90      92   \n",
       "1       Paul       Revu    Male         55     50       38       88      88   \n",
       "2      Eswar     Banoth    Male         76     60       61       63      63   \n",
       "3   Vasanthi    Kalvani  Female         89     67       49       69      69   \n",
       "4  Ruya Khan   Mohamadh  Female         87     65       80       76      76   \n",
       "\n",
       "   Hindi  Physics  Overall_marks           Full_name Grades Subject  \n",
       "0     92       70            592    Yogesh Modepalli      A  Python  \n",
       "1     88       69            476           Paul Revu      B    Java  \n",
       "2     63       83            469        Eswar Banoth      D      C#  \n",
       "3     69       76            488    Vasanthi Kalvani      C    java  \n",
       "4     76       92            552  Ruya Khan Mohamadh      D     C++  "
      ]
     },
     "execution_count": 4,
     "metadata": {},
     "output_type": "execute_result"
    }
   ],
   "source": [
    "#importing library\n",
    "import pandas as pd\n",
    "\n",
    "data = pd.read_excel(r\"D:\\Excel\\releted to datascience excel files\\marks_sheet.xlsx\")\n",
    "\n",
    "data.head()"
   ]
  },
  {
   "cell_type": "code",
   "execution_count": 5,
   "id": "e9938c98",
   "metadata": {},
   "outputs": [
    {
     "data": {
      "image/png": "[encoded data removed]",
      "text/plain": [
       "<Figure size 432x288 with 1 Axes>"
      ]
     },
     "metadata": {
      "needs_background": "light"
     },
     "output_type": "display_data"
    }
   ],
   "source": [
    "#Genarating the Histogram\n",
    "import matplotlib.pyplot as plt\n",
    "%matplotlib inline\n",
    "plt.hist(\"Overall_marks\", data = data)\n",
    "plt.show()"
   ]
  },
  {
   "cell_type": "code",
   "execution_count": 6,
   "id": "7f7e6a94",
   "metadata": {},
   "outputs": [
    {
     "data": {
      "image/png": "[encoded data removed]",
      "text/plain": [
       "<Figure size 432x288 with 1 Axes>"
      ]
     },
     "metadata": {
      "needs_background": "light"
     },
     "output_type": "display_data"
    }
   ],
   "source": [
    "#If you want to display the only limeted number of bars use this line of code\n",
    "plt.hist(x = 'Overall_marks', data = data, bins = 4)\n",
    "plt.show()"
   ]
  },
  {
   "cell_type": "markdown",
   "id": "2555191f",
   "metadata": {},
   "source": [
    ">You can clearly identify the diffrence between the above two graphs."
   ]
  },
  {
   "cell_type": "markdown",
   "id": "a017d1bf",
   "metadata": {},
   "source": [
    "#### 2.3 Probability"
   ]
  },
  {
   "cell_type": "markdown",
   "id": "09c3086c",
   "metadata": {},
   "source": [
    "- Probability is a measure of an uncertain event, in the form of numerical figures. (simply True/False, Yes/No, 1/0)\n",
    "###### throwing a single dice"
   ]
  },
  {
   "cell_type": "markdown",
   "id": "5e99ce62",
   "metadata": {},
   "source": [
    "> - By throwing the single dicewe have 6 possible occurences of events. those are{1,2,3,4,5,6}\n",
    "> - the even number posibilities are {2,4,6}. The probability is no_of occurences/no_of elements on dice. i.e 3/6=0.50. the probalility of getting even or odd number is 50%"
   ]
  },
  {
   "cell_type": "markdown",
   "id": "3834cb0a",
   "metadata": {},
   "source": [
    "###### Throwing a two dices"
   ]
  },
  {
   "cell_type": "markdown",
   "id": "f71d646b",
   "metadata": {},
   "source": [
    "> - By throwing a two dices we get total(sum of two dices) of 35 posibities, to get either even or odd number."
   ]
  },
  {
   "cell_type": "markdown",
   "id": "35f129a6",
   "metadata": {},
   "source": [
    "> - the even numbers are {2,4,6,8,10,12} = 17 posibilities. so the probalility is (6x6=36 possibilities).17/36=0.47% or 47% probalility of getting the even number, while throwing a two dices\n",
    "> - the Odd numbers are {3,5,7,9,11}  = 18 posibilities. so the probalility is 18/36 = 18/36=0.50% or 50% probaility of getting the odd number, while throwing the two dices"
   ]
  },
  {
   "cell_type": "markdown",
   "id": "c12af63c",
   "metadata": {},
   "source": [
    "###### Random variables"
   ]
  },
  {
   "cell_type": "markdown",
   "id": "9a513e09",
   "metadata": {},
   "source": [
    "> A random variable has a probalility distribution that represents the likely hood that any of the possible values would occur. we have two types of random variables\n",
    "> - discrete random variable\n",
    "> - continuous random variable\n",
    "\n",
    "> Discrete random variable have the countable no_of possibilities. The probablility of the each value of a dicrete random variable is between 0 and 1. and the sum of the all probalilities is equal to 1\n",
    "\n",
    "> Continuous random variable is one which can takes infinite no_of possible values. Eg:- Height, weight, length, time,etc."
   ]
  },
  {
   "cell_type": "markdown",
   "id": "b0ba1c9e",
   "metadata": {},
   "source": [
    "##### 2.4 Bernoulli trails (Discrete randon variables)"
   ]
  },
  {
   "cell_type": "markdown",
   "id": "9d1a47c5",
   "metadata": {},
   "source": [
    "> - The experiment which have only two possible occurences or two outcomes is called bernoulli trails.\n",
    "> - The probability distribution of the number of successes in bernoulli's trails is known as Bernoulis distribution."
   ]
  },
  {
   "cell_type": "markdown",
   "id": "b9e4c64d",
   "metadata": {},
   "source": [
    "###### 2.5 Continuous Random variables"
   ]
  },
  {
   "cell_type": "markdown",
   "id": "2e1a84e7",
   "metadata": {},
   "source": [
    "> - By incresing the no_of bernouli's trails, the probability disribution function become continuous.\n",
    "> - the probability distribution of a continuous random variable is known as the Probability density function"
   ]
  },
  {
   "cell_type": "markdown",
   "id": "b458216f",
   "metadata": {},
   "source": [
    "##### Program for one sample t-test"
   ]
  },
  {
   "cell_type": "code",
   "execution_count": 19,
   "id": "ebc697d3",
   "metadata": {},
   "outputs": [],
   "source": [
    "import pandas as pd\n",
    "import scipy.stats as stats\n",
    "from scipy.stats import ttest_1samp"
   ]
  },
  {
   "cell_type": "code",
   "execution_count": 20,
   "id": "7679b846",
   "metadata": {},
   "outputs": [
    {
     "data": {
      "text/html": [
       "<div>\n",
       "<style scoped>\n",
       "    .dataframe tbody tr th:only-of-type {\n",
       "        vertical-align: middle;\n",
       "    }\n",
       "\n",
       "    .dataframe tbody tr th {\n",
       "        vertical-align: top;\n",
       "    }\n",
       "\n",
       "    .dataframe thead th {\n",
       "        text-align: right;\n",
       "    }\n",
       "</style>\n",
       "<table border=\"1\" class=\"dataframe\">\n",
       "  <thead>\n",
       "    <tr style=\"text-align: right;\">\n",
       "      <th></th>\n",
       "      <th>Insect Length</th>\n",
       "    </tr>\n",
       "  </thead>\n",
       "  <tbody>\n",
       "    <tr>\n",
       "      <th>0</th>\n",
       "      <td>6.2</td>\n",
       "    </tr>\n",
       "    <tr>\n",
       "      <th>1</th>\n",
       "      <td>6.3</td>\n",
       "    </tr>\n",
       "    <tr>\n",
       "      <th>2</th>\n",
       "      <td>6.1</td>\n",
       "    </tr>\n",
       "    <tr>\n",
       "      <th>3</th>\n",
       "      <td>6.0</td>\n",
       "    </tr>\n",
       "    <tr>\n",
       "      <th>4</th>\n",
       "      <td>6.4</td>\n",
       "    </tr>\n",
       "  </tbody>\n",
       "</table>\n",
       "</div>"
      ],
      "text/plain": [
       "   Insect Length\n",
       "0            6.2\n",
       "1            6.3\n",
       "2            6.1\n",
       "3            6.0\n",
       "4            6.4"
      ]
     },
     "execution_count": 20,
     "metadata": {},
     "output_type": "execute_result"
    }
   ],
   "source": [
    "#load the data\n",
    "data = pd.read_excel(r\"D:\\Excel\\insects.xlsx\")\n",
    "data.head()"
   ]
  },
  {
   "cell_type": "code",
   "execution_count": 12,
   "id": "236a64b2",
   "metadata": {},
   "outputs": [],
   "source": [
    "# formula for T-statistic\n",
    "t_statistic = ttest_1samp(data,6.09)"
   ]
  },
  {
   "cell_type": "code",
   "execution_count": 13,
   "id": "43af29f1",
   "metadata": {},
   "outputs": [
    {
     "data": {
      "text/plain": [
       "Ttest_1sampResult(statistic=array([5.35114504]), pvalue=array([9.56090054e-06]))"
      ]
     },
     "execution_count": 13,
     "metadata": {},
     "output_type": "execute_result"
    }
   ],
   "source": [
    "t_statistic"
   ]
  },
  {
   "cell_type": "code",
   "execution_count": null,
   "id": "7d9b5ee6",
   "metadata": {},
   "outputs": [],
   "source": [
    "#comparing t_statistic and t_critical value\n",
    "t_statistic > t_critical"
   ]
  },
  {
   "cell_type": "markdown",
   "id": "d19deaf7",
   "metadata": {},
   "source": [
    "##### program for Two sample t_test"
   ]
  },
  {
   "cell_type": "code",
   "execution_count": 1,
   "id": "e3626baa",
   "metadata": {},
   "outputs": [],
   "source": [
    "import pandas as pd\n",
    "import scipy.stats as stats\n",
    "from scipy.stats import ttest_ind"
   ]
  },
  {
   "cell_type": "code",
   "execution_count": 2,
   "id": "9ca72d1d",
   "metadata": {},
   "outputs": [
    {
     "data": {
      "text/html": [
       "<div>\n",
       "<style scoped>\n",
       "    .dataframe tbody tr th:only-of-type {\n",
       "        vertical-align: middle;\n",
       "    }\n",
       "\n",
       "    .dataframe tbody tr th {\n",
       "        vertical-align: top;\n",
       "    }\n",
       "\n",
       "    .dataframe thead th {\n",
       "        text-align: right;\n",
       "    }\n",
       "</style>\n",
       "<table border=\"1\" class=\"dataframe\">\n",
       "  <thead>\n",
       "    <tr style=\"text-align: right;\">\n",
       "      <th></th>\n",
       "      <th>Insect Length</th>\n",
       "      <th>insect length2</th>\n",
       "    </tr>\n",
       "  </thead>\n",
       "  <tbody>\n",
       "    <tr>\n",
       "      <th>0</th>\n",
       "      <td>6.2</td>\n",
       "      <td>5.30</td>\n",
       "    </tr>\n",
       "    <tr>\n",
       "      <th>1</th>\n",
       "      <td>6.3</td>\n",
       "      <td>5.10</td>\n",
       "    </tr>\n",
       "    <tr>\n",
       "      <th>2</th>\n",
       "      <td>6.1</td>\n",
       "      <td>5.44</td>\n",
       "    </tr>\n",
       "    <tr>\n",
       "      <th>3</th>\n",
       "      <td>6.0</td>\n",
       "      <td>5.64</td>\n",
       "    </tr>\n",
       "    <tr>\n",
       "      <th>4</th>\n",
       "      <td>6.4</td>\n",
       "      <td>5.14</td>\n",
       "    </tr>\n",
       "  </tbody>\n",
       "</table>\n",
       "</div>"
      ],
      "text/plain": [
       "   Insect Length  insect length2\n",
       "0            6.2            5.30\n",
       "1            6.3            5.10\n",
       "2            6.1            5.44\n",
       "3            6.0            5.64\n",
       "4            6.4            5.14"
      ]
     },
     "execution_count": 2,
     "metadata": {},
     "output_type": "execute_result"
    }
   ],
   "source": [
    "#Load the data\n",
    "data = pd.read_excel(r\"D:\\Excel\\insects.xlsx\")\n",
    "data.head()"
   ]
  },
  {
   "cell_type": "code",
   "execution_count": 3,
   "id": "1ab14f35",
   "metadata": {},
   "outputs": [],
   "source": [
    "#calculating the t_statistic and p_value using 2 samp t_test\n",
    "t_statistic,p_value = ttest_ind(data[\"Insect Length\"],data[\"insect length2\"][0:14],equal_var = False)"
   ]
  },
  {
   "cell_type": "code",
   "execution_count": 4,
   "id": "f7102c26",
   "metadata": {},
   "outputs": [
    {
     "name": "stdout",
     "output_type": "stream",
     "text": [
      "2.404052223456733e-11\n"
     ]
    }
   ],
   "source": [
    "print(p_value)"
   ]
  },
  {
   "cell_type": "markdown",
   "id": "afd7c1b3",
   "metadata": {},
   "source": [
    "##### Program for Paired_ttest"
   ]
  },
  {
   "cell_type": "code",
   "execution_count": 5,
   "id": "f35b2457",
   "metadata": {},
   "outputs": [],
   "source": [
    "import pandas as pd\n",
    "import scipy.stats as stats\n",
    "from scipy.stats import ttest_rel"
   ]
  },
  {
   "cell_type": "code",
   "execution_count": 7,
   "id": "6c9783cd",
   "metadata": {},
   "outputs": [],
   "source": [
    "#Loding the dataset\n",
    "data = pd.read_excel(r\"D:\\Excel\\releted to datascience excel files\\example_for_paired test.xlsx\")"
   ]
  },
  {
   "cell_type": "code",
   "execution_count": 8,
   "id": "bc917c9b",
   "metadata": {},
   "outputs": [
    {
     "data": {
      "text/html": [
       "<div>\n",
       "<style scoped>\n",
       "    .dataframe tbody tr th:only-of-type {\n",
       "        vertical-align: middle;\n",
       "    }\n",
       "\n",
       "    .dataframe tbody tr th {\n",
       "        vertical-align: top;\n",
       "    }\n",
       "\n",
       "    .dataframe thead th {\n",
       "        text-align: right;\n",
       "    }\n",
       "</style>\n",
       "<table border=\"1\" class=\"dataframe\">\n",
       "  <thead>\n",
       "    <tr style=\"text-align: right;\">\n",
       "      <th></th>\n",
       "      <th>Person</th>\n",
       "      <th>Before</th>\n",
       "      <th>After</th>\n",
       "      <th>Difference</th>\n",
       "    </tr>\n",
       "  </thead>\n",
       "  <tbody>\n",
       "    <tr>\n",
       "      <th>0</th>\n",
       "      <td>a</td>\n",
       "      <td>72.0</td>\n",
       "      <td>61.0</td>\n",
       "      <td>11.0</td>\n",
       "    </tr>\n",
       "    <tr>\n",
       "      <th>1</th>\n",
       "      <td>b</td>\n",
       "      <td>71.0</td>\n",
       "      <td>60.0</td>\n",
       "      <td>11.0</td>\n",
       "    </tr>\n",
       "    <tr>\n",
       "      <th>2</th>\n",
       "      <td>c</td>\n",
       "      <td>69.0</td>\n",
       "      <td>59.0</td>\n",
       "      <td>10.0</td>\n",
       "    </tr>\n",
       "    <tr>\n",
       "      <th>3</th>\n",
       "      <td>d</td>\n",
       "      <td>63.0</td>\n",
       "      <td>55.0</td>\n",
       "      <td>8.0</td>\n",
       "    </tr>\n",
       "    <tr>\n",
       "      <th>4</th>\n",
       "      <td>e</td>\n",
       "      <td>66.0</td>\n",
       "      <td>52.0</td>\n",
       "      <td>14.0</td>\n",
       "    </tr>\n",
       "  </tbody>\n",
       "</table>\n",
       "</div>"
      ],
      "text/plain": [
       "  Person  Before  After  Difference\n",
       "0      a    72.0   61.0        11.0\n",
       "1      b    71.0   60.0        11.0\n",
       "2      c    69.0   59.0        10.0\n",
       "3      d    63.0   55.0         8.0\n",
       "4      e    66.0   52.0        14.0"
      ]
     },
     "execution_count": 8,
     "metadata": {},
     "output_type": "execute_result"
    }
   ],
   "source": [
    "data.head()"
   ]
  },
  {
   "cell_type": "code",
   "execution_count": 9,
   "id": "0b6d1f2b",
   "metadata": {},
   "outputs": [],
   "source": [
    "#calculating t and p_value using scipy_library\n",
    "t_statistic,p_value = stats.ttest_rel(data[\"Before\"],data[\"After\"])"
   ]
  },
  {
   "cell_type": "code",
   "execution_count": 10,
   "id": "33da5ba0",
   "metadata": {},
   "outputs": [
    {
     "data": {
      "text/plain": [
       "9.0101985379519e-06"
      ]
     },
     "execution_count": 10,
     "metadata": {},
     "output_type": "execute_result"
    }
   ],
   "source": [
    "#printing the p_value\n",
    "p_value"
   ]
  },
  {
   "cell_type": "markdown",
   "id": "3e10128b",
   "metadata": {},
   "source": [
    "##### Program for CHI-Squared test"
   ]
  },
  {
   "cell_type": "code",
   "execution_count": 16,
   "id": "bde25121",
   "metadata": {},
   "outputs": [],
   "source": [
    "#importing libraries\n",
    "import pandas as pd\n",
    "import numpy as np\n",
    "import scipy.stats as stats\n",
    "from scipy.stats import chisquare"
   ]
  },
  {
   "cell_type": "code",
   "execution_count": 20,
   "id": "68996ee2",
   "metadata": {},
   "outputs": [],
   "source": [
    "#loading the dataset\n",
    "data = pd.read_excel(r\"D:\\Excel\\chi2.xlsx\")"
   ]
  },
  {
   "cell_type": "code",
   "execution_count": 21,
   "id": "bc60d765",
   "metadata": {},
   "outputs": [
    {
     "data": {
      "text/html": [
       "<div>\n",
       "<style scoped>\n",
       "    .dataframe tbody tr th:only-of-type {\n",
       "        vertical-align: middle;\n",
       "    }\n",
       "\n",
       "    .dataframe tbody tr th {\n",
       "        vertical-align: top;\n",
       "    }\n",
       "\n",
       "    .dataframe thead th {\n",
       "        text-align: right;\n",
       "    }\n",
       "</style>\n",
       "<table border=\"1\" class=\"dataframe\">\n",
       "  <thead>\n",
       "    <tr style=\"text-align: right;\">\n",
       "      <th></th>\n",
       "      <th>bike names</th>\n",
       "      <th>milage_observed</th>\n",
       "      <th>milage_expected</th>\n",
       "    </tr>\n",
       "  </thead>\n",
       "  <tbody>\n",
       "    <tr>\n",
       "      <th>0</th>\n",
       "      <td>z</td>\n",
       "      <td>35</td>\n",
       "      <td>40</td>\n",
       "    </tr>\n",
       "    <tr>\n",
       "      <th>1</th>\n",
       "      <td>x</td>\n",
       "      <td>47</td>\n",
       "      <td>50</td>\n",
       "    </tr>\n",
       "    <tr>\n",
       "      <th>2</th>\n",
       "      <td>c</td>\n",
       "      <td>52</td>\n",
       "      <td>55</td>\n",
       "    </tr>\n",
       "    <tr>\n",
       "      <th>3</th>\n",
       "      <td>v</td>\n",
       "      <td>60</td>\n",
       "      <td>65</td>\n",
       "    </tr>\n",
       "    <tr>\n",
       "      <th>4</th>\n",
       "      <td>n</td>\n",
       "      <td>51</td>\n",
       "      <td>55</td>\n",
       "    </tr>\n",
       "  </tbody>\n",
       "</table>\n",
       "</div>"
      ],
      "text/plain": [
       "  bike names  milage_observed  milage_expected\n",
       "0          z               35               40\n",
       "1          x               47               50\n",
       "2          c               52               55\n",
       "3          v               60               65\n",
       "4          n               51               55"
      ]
     },
     "execution_count": 21,
     "metadata": {},
     "output_type": "execute_result"
    }
   ],
   "source": [
    "data.head()"
   ]
  },
  {
   "cell_type": "code",
   "execution_count": 28,
   "id": "ac8278f1",
   "metadata": {},
   "outputs": [
    {
     "ename": "NameError",
     "evalue": "name 'F_Exp' is not defined",
     "output_type": "error",
     "traceback": [
      "\u001b[1;31m---------------------------------------------------------------------------\u001b[0m",
      "\u001b[1;31mNameError\u001b[0m                                 Traceback (most recent call last)",
      "\u001b[1;32m<ipython-input-28-ab989bee192e>\u001b[0m in \u001b[0;36m<module>\u001b[1;34m\u001b[0m\n\u001b[0;32m      1\u001b[0m \u001b[1;31m#calculating t_statistic and p_value\u001b[0m\u001b[1;33m\u001b[0m\u001b[1;33m\u001b[0m\u001b[1;33m\u001b[0m\u001b[0m\n\u001b[1;32m----> 2\u001b[1;33m \u001b[0mt_statistic\u001b[0m\u001b[1;33m,\u001b[0m\u001b[0mp_value\u001b[0m \u001b[1;33m=\u001b[0m \u001b[0mchisquare\u001b[0m\u001b[1;33m(\u001b[0m\u001b[0mF_Exp\u001b[0m\u001b[1;33m[\u001b[0m\u001b[1;34m\"milage_expected\"\u001b[0m\u001b[1;33m]\u001b[0m\u001b[1;33m,\u001b[0m\u001b[0mf_obs\u001b[0m \u001b[1;33m=\u001b[0m \u001b[0mdata\u001b[0m\u001b[1;33m[\u001b[0m\u001b[1;34m\"milage_observed\"\u001b[0m\u001b[1;33m]\u001b[0m\u001b[1;33m)\u001b[0m\u001b[1;33m\u001b[0m\u001b[1;33m\u001b[0m\u001b[0m\n\u001b[0m",
      "\u001b[1;31mNameError\u001b[0m: name 'F_Exp' is not defined"
     ]
    }
   ],
   "source": [
    "#calculating t_statistic and p_value\n",
    "t_statistic,p_value = chisquare(f_exp[\"milage_expected\"],f_obs = data[\"milage_observed\"])"
   ]
  },
  {
   "cell_type": "markdown",
   "id": "a3a6f8c4",
   "metadata": {},
   "source": [
    "##### Correlation\n",
    "> finding the relationship between datasets is called the Correlation. We use scatter plots to understand the correlation between the datasets. Here is the example program for correlation"
   ]
  },
  {
   "cell_type": "code",
   "execution_count": 2,
   "id": "e933b567",
   "metadata": {},
   "outputs": [],
   "source": [
    "#importing libraries\n",
    "import pandas as pd\n",
    "import numpy as np"
   ]
  },
  {
   "cell_type": "code",
   "execution_count": 3,
   "id": "5c094ea9",
   "metadata": {},
   "outputs": [],
   "source": [
    "#Loding the dataset\n",
    "data = pd.read_excel(r\"D:\\Excel\\releted to datascience excel files\\supermarket_sales.xlsx\")"
   ]
  },
  {
   "cell_type": "code",
   "execution_count": 4,
   "id": "9d92887a",
   "metadata": {},
   "outputs": [
    {
     "data": {
      "text/html": [
       "<div>\n",
       "<style scoped>\n",
       "    .dataframe tbody tr th:only-of-type {\n",
       "        vertical-align: middle;\n",
       "    }\n",
       "\n",
       "    .dataframe tbody tr th {\n",
       "        vertical-align: top;\n",
       "    }\n",
       "\n",
       "    .dataframe thead th {\n",
       "        text-align: right;\n",
       "    }\n",
       "</style>\n",
       "<table border=\"1\" class=\"dataframe\">\n",
       "  <thead>\n",
       "    <tr style=\"text-align: right;\">\n",
       "      <th></th>\n",
       "      <th>Item_Identifier</th>\n",
       "      <th>Item_Weight</th>\n",
       "      <th>Item_Fat_Content</th>\n",
       "      <th>Item_Visibility</th>\n",
       "      <th>Item_Type</th>\n",
       "      <th>Item_MRP</th>\n",
       "      <th>Outlet_Identifier</th>\n",
       "      <th>Outlet_Establishment_Year</th>\n",
       "      <th>Outlet_Size</th>\n",
       "      <th>Outlet_Location_Type</th>\n",
       "      <th>Outlet_Type</th>\n",
       "      <th>Item_Outlet_Sales</th>\n",
       "    </tr>\n",
       "  </thead>\n",
       "  <tbody>\n",
       "    <tr>\n",
       "      <th>0</th>\n",
       "      <td>FDA15</td>\n",
       "      <td>9.30</td>\n",
       "      <td>Low Fat</td>\n",
       "      <td>0.016047</td>\n",
       "      <td>Dairy</td>\n",
       "      <td>249.8092</td>\n",
       "      <td>OUT049</td>\n",
       "      <td>1999</td>\n",
       "      <td>Medium</td>\n",
       "      <td>Tier 1</td>\n",
       "      <td>Supermarket Type1</td>\n",
       "      <td>3735.1380</td>\n",
       "    </tr>\n",
       "    <tr>\n",
       "      <th>1</th>\n",
       "      <td>DRC01</td>\n",
       "      <td>5.92</td>\n",
       "      <td>Regular</td>\n",
       "      <td>0.019278</td>\n",
       "      <td>Soft Drinks</td>\n",
       "      <td>48.2692</td>\n",
       "      <td>OUT018</td>\n",
       "      <td>2009</td>\n",
       "      <td>Medium</td>\n",
       "      <td>Tier 3</td>\n",
       "      <td>Supermarket Type2</td>\n",
       "      <td>443.4228</td>\n",
       "    </tr>\n",
       "    <tr>\n",
       "      <th>2</th>\n",
       "      <td>FDN15</td>\n",
       "      <td>17.50</td>\n",
       "      <td>Low Fat</td>\n",
       "      <td>0.016760</td>\n",
       "      <td>Meat</td>\n",
       "      <td>141.6180</td>\n",
       "      <td>OUT049</td>\n",
       "      <td>1999</td>\n",
       "      <td>Medium</td>\n",
       "      <td>Tier 1</td>\n",
       "      <td>Supermarket Type1</td>\n",
       "      <td>2097.2700</td>\n",
       "    </tr>\n",
       "    <tr>\n",
       "      <th>3</th>\n",
       "      <td>FDX07</td>\n",
       "      <td>19.20</td>\n",
       "      <td>Regular</td>\n",
       "      <td>0.000000</td>\n",
       "      <td>Fruits and Vegetables</td>\n",
       "      <td>182.0950</td>\n",
       "      <td>OUT010</td>\n",
       "      <td>1998</td>\n",
       "      <td>NaN</td>\n",
       "      <td>Tier 3</td>\n",
       "      <td>Grocery Store</td>\n",
       "      <td>732.3800</td>\n",
       "    </tr>\n",
       "    <tr>\n",
       "      <th>4</th>\n",
       "      <td>NCD19</td>\n",
       "      <td>8.93</td>\n",
       "      <td>Low Fat</td>\n",
       "      <td>0.000000</td>\n",
       "      <td>Household</td>\n",
       "      <td>53.8614</td>\n",
       "      <td>OUT013</td>\n",
       "      <td>1987</td>\n",
       "      <td>High</td>\n",
       "      <td>Tier 3</td>\n",
       "      <td>Supermarket Type1</td>\n",
       "      <td>994.7052</td>\n",
       "    </tr>\n",
       "  </tbody>\n",
       "</table>\n",
       "</div>"
      ],
      "text/plain": [
       "  Item_Identifier  Item_Weight Item_Fat_Content  Item_Visibility  \\\n",
       "0           FDA15         9.30          Low Fat         0.016047   \n",
       "1           DRC01         5.92          Regular         0.019278   \n",
       "2           FDN15        17.50          Low Fat         0.016760   \n",
       "3           FDX07        19.20          Regular         0.000000   \n",
       "4           NCD19         8.93          Low Fat         0.000000   \n",
       "\n",
       "               Item_Type  Item_MRP Outlet_Identifier  \\\n",
       "0                  Dairy  249.8092            OUT049   \n",
       "1            Soft Drinks   48.2692            OUT018   \n",
       "2                   Meat  141.6180            OUT049   \n",
       "3  Fruits and Vegetables  182.0950            OUT010   \n",
       "4              Household   53.8614            OUT013   \n",
       "\n",
       "   Outlet_Establishment_Year Outlet_Size Outlet_Location_Type  \\\n",
       "0                       1999      Medium               Tier 1   \n",
       "1                       2009      Medium               Tier 3   \n",
       "2                       1999      Medium               Tier 1   \n",
       "3                       1998         NaN               Tier 3   \n",
       "4                       1987        High               Tier 3   \n",
       "\n",
       "         Outlet_Type  Item_Outlet_Sales  \n",
       "0  Supermarket Type1          3735.1380  \n",
       "1  Supermarket Type2           443.4228  \n",
       "2  Supermarket Type1          2097.2700  \n",
       "3      Grocery Store           732.3800  \n",
       "4  Supermarket Type1           994.7052  "
      ]
     },
     "execution_count": 4,
     "metadata": {},
     "output_type": "execute_result"
    }
   ],
   "source": [
    "#printing the first 5 rows of the dataset\n",
    "data.head()"
   ]
  },
  {
   "cell_type": "code",
   "execution_count": 6,
   "id": "bbe12612",
   "metadata": {},
   "outputs": [
    {
     "data": {
      "text/html": [
       "<div>\n",
       "<style scoped>\n",
       "    .dataframe tbody tr th:only-of-type {\n",
       "        vertical-align: middle;\n",
       "    }\n",
       "\n",
       "    .dataframe tbody tr th {\n",
       "        vertical-align: top;\n",
       "    }\n",
       "\n",
       "    .dataframe thead th {\n",
       "        text-align: right;\n",
       "    }\n",
       "</style>\n",
       "<table border=\"1\" class=\"dataframe\">\n",
       "  <thead>\n",
       "    <tr style=\"text-align: right;\">\n",
       "      <th></th>\n",
       "      <th>Item_Weight</th>\n",
       "      <th>Item_MRP</th>\n",
       "    </tr>\n",
       "  </thead>\n",
       "  <tbody>\n",
       "    <tr>\n",
       "      <th>Item_Weight</th>\n",
       "      <td>1.000000</td>\n",
       "      <td>0.027141</td>\n",
       "    </tr>\n",
       "    <tr>\n",
       "      <th>Item_MRP</th>\n",
       "      <td>0.027141</td>\n",
       "      <td>1.000000</td>\n",
       "    </tr>\n",
       "  </tbody>\n",
       "</table>\n",
       "</div>"
      ],
      "text/plain": [
       "             Item_Weight  Item_MRP\n",
       "Item_Weight     1.000000  0.027141\n",
       "Item_MRP        0.027141  1.000000"
      ]
     },
     "execution_count": 6,
     "metadata": {},
     "output_type": "execute_result"
    }
   ],
   "source": [
    "#finding the correlation between sales and quantity\n",
    "data[[\"Item_Weight\", \"Item_MRP\"]].corr()"
   ]
  },
  {
   "cell_type": "code",
   "execution_count": 7,
   "id": "fb031cb2",
   "metadata": {},
   "outputs": [
    {
     "data": {
      "text/html": [
       "<div>\n",
       "<style scoped>\n",
       "    .dataframe tbody tr th:only-of-type {\n",
       "        vertical-align: middle;\n",
       "    }\n",
       "\n",
       "    .dataframe tbody tr th {\n",
       "        vertical-align: top;\n",
       "    }\n",
       "\n",
       "    .dataframe thead th {\n",
       "        text-align: right;\n",
       "    }\n",
       "</style>\n",
       "<table border=\"1\" class=\"dataframe\">\n",
       "  <thead>\n",
       "    <tr style=\"text-align: right;\">\n",
       "      <th></th>\n",
       "      <th>Item_Weight</th>\n",
       "      <th>Item_Outlet_Sales</th>\n",
       "    </tr>\n",
       "  </thead>\n",
       "  <tbody>\n",
       "    <tr>\n",
       "      <th>Item_Weight</th>\n",
       "      <td>1.000000</td>\n",
       "      <td>0.014123</td>\n",
       "    </tr>\n",
       "    <tr>\n",
       "      <th>Item_Outlet_Sales</th>\n",
       "      <td>0.014123</td>\n",
       "      <td>1.000000</td>\n",
       "    </tr>\n",
       "  </tbody>\n",
       "</table>\n",
       "</div>"
      ],
      "text/plain": [
       "                   Item_Weight  Item_Outlet_Sales\n",
       "Item_Weight           1.000000           0.014123\n",
       "Item_Outlet_Sales     0.014123           1.000000"
      ]
     },
     "execution_count": 7,
     "metadata": {},
     "output_type": "execute_result"
    }
   ],
   "source": [
    "#finding the correlation between the Item_MRP and Item_outlet_sales\n",
    "data[[\"Item_Weight\", \"Item_Outlet_Sales\"]].corr()"
   ]
  },
  {
   "cell_type": "code",
   "execution_count": 9,
   "id": "67ff4300",
   "metadata": {},
   "outputs": [],
   "source": [
    "#importing plotting libraries\n",
    "import matplotlib.pyplot as plt\n",
    "%matplotlib inline\n",
    "import seaborn as sns"
   ]
  },
  {
   "cell_type": "code",
   "execution_count": 10,
   "id": "f157dbd9",
   "metadata": {},
   "outputs": [
    {
     "data": {
      "text/html": [
       "<div>\n",
       "<style scoped>\n",
       "    .dataframe tbody tr th:only-of-type {\n",
       "        vertical-align: middle;\n",
       "    }\n",
       "\n",
       "    .dataframe tbody tr th {\n",
       "        vertical-align: top;\n",
       "    }\n",
       "\n",
       "    .dataframe thead th {\n",
       "        text-align: right;\n",
       "    }\n",
       "</style>\n",
       "<table border=\"1\" class=\"dataframe\">\n",
       "  <thead>\n",
       "    <tr style=\"text-align: right;\">\n",
       "      <th></th>\n",
       "      <th>Item_Weight</th>\n",
       "      <th>Item_Visibility</th>\n",
       "      <th>Item_MRP</th>\n",
       "      <th>Outlet_Establishment_Year</th>\n",
       "      <th>Item_Outlet_Sales</th>\n",
       "    </tr>\n",
       "  </thead>\n",
       "  <tbody>\n",
       "    <tr>\n",
       "      <th>Item_Weight</th>\n",
       "      <td>1.000000</td>\n",
       "      <td>-0.014048</td>\n",
       "      <td>0.027141</td>\n",
       "      <td>-0.011588</td>\n",
       "      <td>0.014123</td>\n",
       "    </tr>\n",
       "    <tr>\n",
       "      <th>Item_Visibility</th>\n",
       "      <td>-0.014048</td>\n",
       "      <td>1.000000</td>\n",
       "      <td>-0.001315</td>\n",
       "      <td>-0.074834</td>\n",
       "      <td>-0.128625</td>\n",
       "    </tr>\n",
       "    <tr>\n",
       "      <th>Item_MRP</th>\n",
       "      <td>0.027141</td>\n",
       "      <td>-0.001315</td>\n",
       "      <td>1.000000</td>\n",
       "      <td>0.005020</td>\n",
       "      <td>0.567574</td>\n",
       "    </tr>\n",
       "    <tr>\n",
       "      <th>Outlet_Establishment_Year</th>\n",
       "      <td>-0.011588</td>\n",
       "      <td>-0.074834</td>\n",
       "      <td>0.005020</td>\n",
       "      <td>1.000000</td>\n",
       "      <td>-0.049135</td>\n",
       "    </tr>\n",
       "    <tr>\n",
       "      <th>Item_Outlet_Sales</th>\n",
       "      <td>0.014123</td>\n",
       "      <td>-0.128625</td>\n",
       "      <td>0.567574</td>\n",
       "      <td>-0.049135</td>\n",
       "      <td>1.000000</td>\n",
       "    </tr>\n",
       "  </tbody>\n",
       "</table>\n",
       "</div>"
      ],
      "text/plain": [
       "                           Item_Weight  Item_Visibility  Item_MRP  \\\n",
       "Item_Weight                   1.000000        -0.014048  0.027141   \n",
       "Item_Visibility              -0.014048         1.000000 -0.001315   \n",
       "Item_MRP                      0.027141        -0.001315  1.000000   \n",
       "Outlet_Establishment_Year    -0.011588        -0.074834  0.005020   \n",
       "Item_Outlet_Sales             0.014123        -0.128625  0.567574   \n",
       "\n",
       "                           Outlet_Establishment_Year  Item_Outlet_Sales  \n",
       "Item_Weight                                -0.011588           0.014123  \n",
       "Item_Visibility                            -0.074834          -0.128625  \n",
       "Item_MRP                                    0.005020           0.567574  \n",
       "Outlet_Establishment_Year                   1.000000          -0.049135  \n",
       "Item_Outlet_Sales                          -0.049135           1.000000  "
      ]
     },
     "execution_count": 10,
     "metadata": {},
     "output_type": "execute_result"
    }
   ],
   "source": [
    "#printing the correlation of the Numerical data\n",
    "data.corr()"
   ]
  },
  {
   "cell_type": "code",
   "execution_count": 18,
   "id": "cb1897e1",
   "metadata": {},
   "outputs": [
    {
     "ename": "NameError",
     "evalue": "name 'figsize' is not defined",
     "output_type": "error",
     "traceback": [
      "\u001b[1;31m---------------------------------------------------------------------------\u001b[0m",
      "\u001b[1;31mNameError\u001b[0m                                 Traceback (most recent call last)",
      "\u001b[1;32m<ipython-input-18-bcf086a0760d>\u001b[0m in \u001b[0;36m<module>\u001b[1;34m\u001b[0m\n\u001b[0;32m      1\u001b[0m \u001b[1;31m#plotting a graph\u001b[0m\u001b[1;33m\u001b[0m\u001b[1;33m\u001b[0m\u001b[1;33m\u001b[0m\u001b[0m\n\u001b[0;32m      2\u001b[0m \u001b[0mcor\u001b[0m \u001b[1;33m=\u001b[0m \u001b[0mdata\u001b[0m\u001b[1;33m.\u001b[0m\u001b[0mcorr\u001b[0m\u001b[1;33m(\u001b[0m\u001b[1;33m)\u001b[0m\u001b[1;33m\u001b[0m\u001b[1;33m\u001b[0m\u001b[0m\n\u001b[1;32m----> 3\u001b[1;33m \u001b[0mplt\u001b[0m\u001b[1;33m.\u001b[0m\u001b[0mfigure\u001b[0m\u001b[1;33m(\u001b[0m\u001b[0mfigsize\u001b[0m\u001b[1;33m(\u001b[0m\u001b[1;36m16\u001b[0m\u001b[1;33m,\u001b[0m\u001b[1;36m14\u001b[0m\u001b[1;33m)\u001b[0m\u001b[1;33m)\u001b[0m\u001b[1;33m\u001b[0m\u001b[1;33m\u001b[0m\u001b[0m\n\u001b[0m\u001b[0;32m      4\u001b[0m \u001b[0msns\u001b[0m\u001b[1;33m.\u001b[0m\u001b[0mheadmap\u001b[0m\u001b[1;33m(\u001b[0m\u001b[0mcor\u001b[0m\u001b[1;33m)\u001b[0m\u001b[1;33m\u001b[0m\u001b[1;33m\u001b[0m\u001b[0m\n",
      "\u001b[1;31mNameError\u001b[0m: name 'figsize' is not defined"
     ]
    }
   ],
   "source": [
    "#plotting a graph\n",
    "cor = data.corr()\n",
    "plt.figure(figsize(16,14))\n",
    "sns.headmap(cor)"
   ]
  },
  {
   "cell_type": "code",
   "execution_count": null,
   "id": "727ba2b7",
   "metadata": {},
   "outputs": [],
   "source": []
  }
 ],
 "metadata": {
  "kernelspec": {
   "display_name": "Python 3",
   "language": "python",
   "name": "python3"
  },
  "language_info": {
   "codemirror_mode": {
    "name": "ipython",
    "version": 3
   },
   "file_extension": ".py",
   "mimetype": "text/x-python",
   "name": "python",
   "nbconvert_exporter": "python",
   "pygments_lexer": "ipython3",
   "version": "3.8.8"
  }
 },
 "nbformat": 4,
 "nbformat_minor": 5
}
